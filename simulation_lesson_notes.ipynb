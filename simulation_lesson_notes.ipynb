{
 "cells": [
  {
   "cell_type": "code",
   "execution_count": 1,
   "metadata": {},
   "outputs": [],
   "source": [
    "import numpy as np\n",
    "import pandas as pd\n",
    "# import viz # curriculum example visualizations\n"
   ]
  },
  {
   "cell_type": "markdown",
   "metadata": {},
   "source": [
    "## How to run a simulation with Python/Numpy/Pandas\n",
    "1. Figure out a way to represent data\n",
    "2. Create a matrix of random data, rows = simulations and columns = 2 (because we roll 2 dice each time)\n",
    "3. Apply an aggregate function, row wise to get the results of the simulation\n",
    "4. Apply a final aggregate to get probablity"
   ]
  },
  {
   "cell_type": "code",
   "execution_count": 2,
   "metadata": {},
   "outputs": [
    {
     "data": {
      "text/plain": [
       "array(['Heads', 'Tails', 'Heads', ..., 'Tails', 'Tails', 'Tails'],\n",
       "      dtype='<U5')"
      ]
     },
     "execution_count": 2,
     "metadata": {},
     "output_type": "execute_result"
    }
   ],
   "source": [
    "# Probability of flipping \"Heads\" on a coin?\n",
    "\n",
    "# Flip a coin 100,000 times and calcualte the prob of flipping heads\n",
    "\n",
    "# Find a way to represent data...Step 1\n",
    "\n",
    "#Step #2\n",
    "outcomes = [\"Heads\", \"Tails\"]\n",
    "number_of_simulations = 100_000\n",
    "\n",
    "#Step 3\n",
    "flips = np.random.choice(outcomes, size=number_of_simulations)\n",
    "flips"
   ]
  },
  {
   "cell_type": "code",
   "execution_count": 8,
   "metadata": {},
   "outputs": [
    {
     "data": {
      "text/plain": [
       "array([False,  True,  True, ...,  True,  True, False])"
      ]
     },
     "execution_count": 8,
     "metadata": {},
     "output_type": "execute_result"
    }
   ],
   "source": [
    "(flips == \"Heads\")"
   ]
  },
  {
   "cell_type": "code",
   "execution_count": 9,
   "metadata": {},
   "outputs": [
    {
     "data": {
      "text/plain": [
       "0.5019"
      ]
     },
     "execution_count": 9,
     "metadata": {},
     "output_type": "execute_result"
    }
   ],
   "source": [
    "#Step #4\n",
    "#After flipping 100_000 coins, our experimental prob of flipping heads is:\n",
    "\n",
    "(flips == \"Heads\").mean()"
   ]
  },
  {
   "cell_type": "code",
   "execution_count": 11,
   "metadata": {},
   "outputs": [
    {
     "data": {
      "text/plain": [
       "array([3, 4, 6, ..., 1, 2, 4])"
      ]
     },
     "execution_count": 11,
     "metadata": {},
     "output_type": "execute_result"
    }
   ],
   "source": [
    "#What is the prob of rolling a dice on a six sided dice\n",
    "#Step 1:\n",
    "outcomes = [1,2,3,4,5,6]\n",
    "\n",
    "#Step 2:\n",
    "n_simulations = 10_000\n",
    "\n",
    "rolls = np.random.choice(outcomes, size=n_simulations)\n",
    "rolls"
   ]
  },
  {
   "cell_type": "code",
   "execution_count": 12,
   "metadata": {},
   "outputs": [
    {
     "data": {
      "text/plain": [
       "0.1689"
      ]
     },
     "execution_count": 12,
     "metadata": {},
     "output_type": "execute_result"
    }
   ],
   "source": [
    "#What are the chances of rolling a 5?\n",
    "(rolls == 5).mean()"
   ]
  },
  {
   "cell_type": "code",
   "execution_count": 13,
   "metadata": {},
   "outputs": [
    {
     "data": {
      "text/plain": [
       "0.3331"
      ]
     },
     "execution_count": 13,
     "metadata": {},
     "output_type": "execute_result"
    }
   ],
   "source": [
    "#What is the prob of rolling a 5 or a 6?\n",
    "(rolls >= 5).mean()"
   ]
  },
  {
   "cell_type": "code",
   "execution_count": 14,
   "metadata": {},
   "outputs": [
    {
     "data": {
      "text/plain": [
       "0.8317"
      ]
     },
     "execution_count": 14,
     "metadata": {},
     "output_type": "execute_result"
    }
   ],
   "source": [
    "# What the chances we roll something other than 3?\n",
    "(rolls != 3).mean()"
   ]
  },
  {
   "cell_type": "markdown",
   "metadata": {},
   "source": [
    "## Roll 2 dice at once\n",
    "- Step 1: How to represent data\n",
    "- Step 2: Matrix of random data, rows = simulations, columns = trails\n",
    "- Step 3. Apply an aggregate row-wise to get the result of each simulation\n",
    "- Step 4. Apply a final aggregate to get the prob"
   ]
  },
  {
   "cell_type": "code",
   "execution_count": 16,
   "metadata": {},
   "outputs": [
    {
     "data": {
      "text/plain": [
       "array([[4, 4],\n",
       "       [3, 5],\n",
       "       [6, 2],\n",
       "       ...,\n",
       "       [3, 3],\n",
       "       [3, 5],\n",
       "       [5, 6]])"
      ]
     },
     "execution_count": 16,
     "metadata": {},
     "output_type": "execute_result"
    }
   ],
   "source": [
    "#What are the chances of rolling snake eyes on 2 dice?\n",
    "\n",
    "#Step 1\n",
    "outcomes = [1,2,3,4,5,6]\n",
    "\n",
    "#Step 2\n",
    "#simulations = the number of times we run the experiment\n",
    "# Trials = the number of trials in each experiment\n",
    "\n",
    "n_simulations = 1_000_000\n",
    "n_trials = 2 #bc we roll 2 dice\n",
    "\n",
    "#size arguemnt can set our simulation and trial size\n",
    "rolls = np.random.choice(outcomes, size=(n_simulations, n_trials) )\n",
    "rolls\n",
    "\n"
   ]
  },
  {
   "cell_type": "code",
   "execution_count": 18,
   "metadata": {},
   "outputs": [
    {
     "data": {
      "text/plain": [
       "array([ 8,  8,  8, ...,  6,  8, 11])"
      ]
     },
     "execution_count": 18,
     "metadata": {},
     "output_type": "execute_result"
    }
   ],
   "source": [
    "#Step 3: apply an aggregate row-wise\n",
    "#axis = 1 means sum across the rows....note that axis=0 will sum down the columns. \n",
    "sum_of_rolls = rolls.sum(axis=1)\n",
    "sum_of_rolls"
   ]
  },
  {
   "cell_type": "code",
   "execution_count": 19,
   "metadata": {},
   "outputs": [
    {
     "data": {
      "text/plain": [
       "0.027946"
      ]
     },
     "execution_count": 19,
     "metadata": {},
     "output_type": "execute_result"
    }
   ],
   "source": [
    "#Step 4: apply a final aggregate:\n",
    "#add up all the times that a simulation(experiment) produces the sum of 2\n",
    "(sum_of_rolls == 2).mean()"
   ]
  },
  {
   "cell_type": "code",
   "execution_count": 26,
   "metadata": {},
   "outputs": [
    {
     "name": "stdout",
     "output_type": "stream",
     "text": [
      "Our theoretical prob of rollinn snake eyes is: 0.027777777777777776 \n"
     ]
    }
   ],
   "source": [
    "theoretical = 1/6 * 1/6\n",
    "print(f\"Our theoretical prob of rollinn snake eyes is: {theoretical} \")"
   ]
  },
  {
   "cell_type": "code",
   "execution_count": 27,
   "metadata": {},
   "outputs": [
    {
     "data": {
      "text/plain": [
       "0.1683"
      ]
     },
     "execution_count": 27,
     "metadata": {},
     "output_type": "execute_result"
    }
   ],
   "source": [
    "# What is the prob of rolling a 7 on two dice?\n",
    "# 1+ 6, 2+5, 3+4, 4+3, 5+2, 6+1\n",
    "\n",
    "outcomes = [1,2,3,4,5,6]\n",
    "\n",
    "#Step 2:\n",
    "# size=(simulations, trials)\n",
    "rolls = np.random.choice(outcomes, size=(10_000, 2))\n",
    "\n",
    "#Step 3:\n",
    "sum_of_rolls = rolls.sum(axis=1)\n",
    "\n",
    "(sum_of_rolls == 7).mean()"
   ]
  },
  {
   "cell_type": "code",
   "execution_count": 28,
   "metadata": {},
   "outputs": [],
   "source": [
    "# possible sum outcomes from rolling two dice\n",
    "\n",
    "possible_sums = [2,3,4,5,6,7,8,9,10,11,12]\n",
    "\n",
    "y = [(sum_of_rolls == n).mean() for n in sum_of_rolls]"
   ]
  },
  {
   "cell_type": "code",
   "execution_count": 30,
   "metadata": {},
   "outputs": [
    {
     "data": {
      "text/plain": [
       "array([ 3,  7,  7,  6, 10,  5,  3, 12, 12,  9])"
      ]
     },
     "execution_count": 30,
     "metadata": {},
     "output_type": "execute_result"
    }
   ],
   "source": [
    "sum_of_rolls[:10]"
   ]
  },
  {
   "cell_type": "code",
   "execution_count": 31,
   "metadata": {},
   "outputs": [
    {
     "data": {
      "text/plain": [
       "[0.0551,\n",
       " 0.1683,\n",
       " 0.1683,\n",
       " 0.1387,\n",
       " 0.0818,\n",
       " 0.1118,\n",
       " 0.0551,\n",
       " 0.0301,\n",
       " 0.0301,\n",
       " 0.1128]"
      ]
     },
     "execution_count": 31,
     "metadata": {},
     "output_type": "execute_result"
    }
   ],
   "source": [
    "y[:10]"
   ]
  },
  {
   "cell_type": "code",
   "execution_count": 38,
   "metadata": {},
   "outputs": [
    {
     "name": "stdout",
     "output_type": "stream",
     "text": [
      "Sum outcome of rolling 2 dice and the probability of seeing that outcome\n"
     ]
    },
    {
     "data": {
      "text/html": [
       "<div>\n",
       "<style scoped>\n",
       "    .dataframe tbody tr th:only-of-type {\n",
       "        vertical-align: middle;\n",
       "    }\n",
       "\n",
       "    .dataframe tbody tr th {\n",
       "        vertical-align: top;\n",
       "    }\n",
       "\n",
       "    .dataframe thead th {\n",
       "        text-align: right;\n",
       "    }\n",
       "</style>\n",
       "<table border=\"1\" class=\"dataframe\">\n",
       "  <thead>\n",
       "    <tr style=\"text-align: right;\">\n",
       "      <th></th>\n",
       "      <th>outcome</th>\n",
       "      <th>probability</th>\n",
       "    </tr>\n",
       "  </thead>\n",
       "  <tbody>\n",
       "    <tr>\n",
       "      <th>0</th>\n",
       "      <td>2</td>\n",
       "      <td>0.0551</td>\n",
       "    </tr>\n",
       "    <tr>\n",
       "      <th>1</th>\n",
       "      <td>3</td>\n",
       "      <td>0.1683</td>\n",
       "    </tr>\n",
       "    <tr>\n",
       "      <th>2</th>\n",
       "      <td>4</td>\n",
       "      <td>0.1683</td>\n",
       "    </tr>\n",
       "    <tr>\n",
       "      <th>3</th>\n",
       "      <td>5</td>\n",
       "      <td>0.1387</td>\n",
       "    </tr>\n",
       "    <tr>\n",
       "      <th>4</th>\n",
       "      <td>6</td>\n",
       "      <td>0.0818</td>\n",
       "    </tr>\n",
       "    <tr>\n",
       "      <th>5</th>\n",
       "      <td>7</td>\n",
       "      <td>0.1118</td>\n",
       "    </tr>\n",
       "    <tr>\n",
       "      <th>6</th>\n",
       "      <td>8</td>\n",
       "      <td>0.0551</td>\n",
       "    </tr>\n",
       "    <tr>\n",
       "      <th>7</th>\n",
       "      <td>9</td>\n",
       "      <td>0.0301</td>\n",
       "    </tr>\n",
       "    <tr>\n",
       "      <th>8</th>\n",
       "      <td>10</td>\n",
       "      <td>0.0301</td>\n",
       "    </tr>\n",
       "    <tr>\n",
       "      <th>9</th>\n",
       "      <td>11</td>\n",
       "      <td>0.1128</td>\n",
       "    </tr>\n",
       "    <tr>\n",
       "      <th>10</th>\n",
       "      <td>12</td>\n",
       "      <td>0.0833</td>\n",
       "    </tr>\n",
       "  </tbody>\n",
       "</table>\n",
       "</div>"
      ],
      "text/plain": [
       "    outcome  probability\n",
       "0         2       0.0551\n",
       "1         3       0.1683\n",
       "2         4       0.1683\n",
       "3         5       0.1387\n",
       "4         6       0.0818\n",
       "5         7       0.1118\n",
       "6         8       0.0551\n",
       "7         9       0.0301\n",
       "8        10       0.0301\n",
       "9        11       0.1128\n",
       "10       12       0.0833"
      ]
     },
     "execution_count": 38,
     "metadata": {},
     "output_type": "execute_result"
    }
   ],
   "source": [
    "# What are the experimental probabilities of rolling each sum\n",
    "df = pd.DataFrame()\n",
    "# possible sum outcomes from 2 dice\n",
    "df[\"outcome\"] = [2, 3, 4, 5, 6, 7, 8, 9, 10, 11, 12]\n",
    "# produce the probability of seeing each sum\n",
    "y = [(sum_of_rolls == n).mean() for n in sum_of_rolls]\n",
    "# set the probability to its own column\n",
    "df[\"probability\"] = pd.Series(y)\n",
    "print(\"Sum outcome of rolling 2 dice and the probability of seeing that outcome\")\n",
    "df"
   ]
  },
  {
   "cell_type": "markdown",
   "metadata": {},
   "source": [
    "## Setting our own probabilities"
   ]
  },
  {
   "cell_type": "code",
   "execution_count": 39,
   "metadata": {},
   "outputs": [
    {
     "data": {
      "text/plain": [
       "0.5478"
      ]
     },
     "execution_count": 39,
     "metadata": {},
     "output_type": "execute_result"
    }
   ],
   "source": [
    "outcomes = [\"Heads\",\"Tails\"]\n",
    "flips = np.random.choice(outcomes, size=(10_000), p=[0.55, 0.45])\n",
    "\n",
    "(flips == \"Heads\").mean()"
   ]
  },
  {
   "cell_type": "code",
   "execution_count": 40,
   "metadata": {},
   "outputs": [
    {
     "data": {
      "text/plain": [
       "array(['Tails', 'Tails', 'Tails', ..., 'Tails', 'Heads', 'Heads'],\n",
       "      dtype='<U5')"
      ]
     },
     "execution_count": 40,
     "metadata": {},
     "output_type": "execute_result"
    }
   ],
   "source": [
    "#what are the chances of flipping two heads in a row?\n",
    "flips = np.random.choice(outcomes, size=(10_000),p=[0.55, 0.45])\n",
    "flips"
   ]
  },
  {
   "cell_type": "code",
   "execution_count": 41,
   "metadata": {},
   "outputs": [
    {
     "data": {
      "text/plain": [
       "array([[1, 1],\n",
       "       [0, 1],\n",
       "       [1, 1],\n",
       "       ...,\n",
       "       [1, 0],\n",
       "       [0, 1],\n",
       "       [0, 1]])"
      ]
     },
     "execution_count": 41,
     "metadata": {},
     "output_type": "execute_result"
    }
   ],
   "source": [
    "# It'll be easier to check for two heads if the head =1 and tails = 0\n",
    "outcomes=[1,0]\n",
    "flips = np.random.choice(outcomes, size=(100_000, 2),p=[0.55, 0.45])\n",
    "flips"
   ]
  },
  {
   "cell_type": "code",
   "execution_count": 42,
   "metadata": {},
   "outputs": [
    {
     "data": {
      "text/plain": [
       "array([2, 1, 2, ..., 1, 1, 1])"
      ]
     },
     "execution_count": 42,
     "metadata": {},
     "output_type": "execute_result"
    }
   ],
   "source": [
    "#axis = 1 to sum across the row\n",
    "num_of_heads = flips.sum(axis=1)\n",
    "num_of_heads"
   ]
  },
  {
   "cell_type": "code",
   "execution_count": 43,
   "metadata": {},
   "outputs": [
    {
     "data": {
      "text/plain": [
       "0.30397"
      ]
     },
     "execution_count": 43,
     "metadata": {},
     "output_type": "execute_result"
    }
   ],
   "source": [
    "(num_of_heads == 2).mean()"
   ]
  },
  {
   "cell_type": "code",
   "execution_count": 44,
   "metadata": {},
   "outputs": [
    {
     "data": {
      "text/plain": [
       "0.25084"
      ]
     },
     "execution_count": 44,
     "metadata": {},
     "output_type": "execute_result"
    }
   ],
   "source": [
    "#What if it was a fair coin?\n",
    "outcomes=[1,0]\n",
    "flips = np.random.choice(outcomes, size=(100_000, 2))\n",
    "num_of_heads = flips.sum(axis=1)\n",
    "(num_of_heads == 2).mean()"
   ]
  },
  {
   "cell_type": "code",
   "execution_count": 47,
   "metadata": {},
   "outputs": [
    {
     "data": {
      "text/plain": [
       "array([ 17,  23, -50, ...,  53, -16,  93])"
      ]
     },
     "execution_count": 47,
     "metadata": {},
     "output_type": "execute_result"
    }
   ],
   "source": [
    "#Let's add some logic to probability\n",
    "# np.random.normal? #how to get the docs example\n",
    "\n",
    "numbers = np.random.randint(-50, 100, 100_000)\n",
    "numbers "
   ]
  },
  {
   "cell_type": "code",
   "execution_count": 48,
   "metadata": {},
   "outputs": [
    {
     "data": {
      "text/plain": [
       "0.33304"
      ]
     },
     "execution_count": 48,
     "metadata": {},
     "output_type": "execute_result"
    }
   ],
   "source": [
    "#What is the prob that any number is negative?\n",
    "(numbers < 0).mean()\n"
   ]
  },
  {
   "cell_type": "code",
   "execution_count": 49,
   "metadata": {},
   "outputs": [
    {
     "data": {
      "text/plain": [
       "0.49896"
      ]
     },
     "execution_count": 49,
     "metadata": {},
     "output_type": "execute_result"
    }
   ],
   "source": [
    "#What is the prob a number is odd?\n",
    "(numbers % 2 != 0).mean()"
   ]
  },
  {
   "cell_type": "code",
   "execution_count": 57,
   "metadata": {},
   "outputs": [
    {
     "data": {
      "text/plain": [
       "0.333"
      ]
     },
     "execution_count": 57,
     "metadata": {},
     "output_type": "execute_result"
    }
   ],
   "source": [
    "#Prob of a number being odd and neg?\n",
    "\n",
    "is_odd = (numbers % 2 != 0)\n",
    "is_negative = (numbers > 0)\n",
    "(is_odd & is_negative).mean()"
   ]
  },
  {
   "cell_type": "code",
   "execution_count": 52,
   "metadata": {},
   "outputs": [
    {
     "data": {
      "text/plain": [
       "array([False, False,  True, ..., False,  True, False])"
      ]
     },
     "execution_count": 52,
     "metadata": {},
     "output_type": "execute_result"
    }
   ],
   "source": [
    "# Prob of a number being even OR positve\n",
    "is_even = (numbers % 2 == 0)\n",
    "is_even"
   ]
  },
  {
   "cell_type": "code",
   "execution_count": 53,
   "metadata": {},
   "outputs": [
    {
     "data": {
      "text/plain": [
       "array([ True,  True, False, ...,  True, False,  True])"
      ]
     },
     "execution_count": 53,
     "metadata": {},
     "output_type": "execute_result"
    }
   ],
   "source": [
    "is_positive = (numbers > 0)\n",
    "is_positive"
   ]
  },
  {
   "cell_type": "code",
   "execution_count": 54,
   "metadata": {},
   "outputs": [
    {
     "data": {
      "text/plain": [
       "0.83404"
      ]
     },
     "execution_count": 54,
     "metadata": {},
     "output_type": "execute_result"
    }
   ],
   "source": [
    "(is_even | is_positive).mean()"
   ]
  },
  {
   "cell_type": "code",
   "execution_count": 58,
   "metadata": {},
   "outputs": [],
   "source": [
    "# Rolling two dice at a time, what is the prob of rolling an odd and then an even?"
   ]
  },
  {
   "cell_type": "code",
   "execution_count": 59,
   "metadata": {},
   "outputs": [
    {
     "data": {
      "text/plain": [
       "(array([5, 5, 4, ..., 5, 2, 3]), array([5, 3, 6, ..., 5, 6, 1]))"
      ]
     },
     "execution_count": 59,
     "metadata": {},
     "output_type": "execute_result"
    }
   ],
   "source": [
    "first_die = np.random.choice([1, 2, 3, 4, 5, 6], size=100_000)\n",
    "second_die = np.random.choice([1, 2, 3, 4, 5, 6], size=100_000)\n",
    "first_die, second_die"
   ]
  },
  {
   "cell_type": "code",
   "execution_count": 60,
   "metadata": {},
   "outputs": [],
   "source": [
    "first_die_is_odd = (first_die % 2 != 0)"
   ]
  },
  {
   "cell_type": "code",
   "execution_count": 61,
   "metadata": {},
   "outputs": [],
   "source": [
    "second_die_is_even = (second_die % 2 == 0)"
   ]
  },
  {
   "cell_type": "code",
   "execution_count": 62,
   "metadata": {},
   "outputs": [
    {
     "data": {
      "text/plain": [
       "array([False, False, False, ..., False, False, False])"
      ]
     },
     "execution_count": 62,
     "metadata": {},
     "output_type": "execute_result"
    }
   ],
   "source": [
    "first_odd_second_even = (first_die_is_odd & second_die_is_even)\n",
    "first_odd_second_even"
   ]
  },
  {
   "cell_type": "code",
   "execution_count": 63,
   "metadata": {},
   "outputs": [
    {
     "data": {
      "text/plain": [
       "0.25012"
      ]
     },
     "execution_count": 63,
     "metadata": {},
     "output_type": "execute_result"
    }
   ],
   "source": [
    "first_odd_second_even.mean()"
   ]
  },
  {
   "cell_type": "code",
   "execution_count": null,
   "metadata": {},
   "outputs": [],
   "source": []
  }
 ],
 "metadata": {
  "kernelspec": {
   "display_name": "Python 3",
   "language": "python",
   "name": "python3"
  },
  "language_info": {
   "codemirror_mode": {
    "name": "ipython",
    "version": 3
   },
   "file_extension": ".py",
   "mimetype": "text/x-python",
   "name": "python",
   "nbconvert_exporter": "python",
   "pygments_lexer": "ipython3",
   "version": "3.8.5"
  }
 },
 "nbformat": 4,
 "nbformat_minor": 4
}

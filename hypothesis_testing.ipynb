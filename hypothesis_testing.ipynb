{
 "cells": [
  {
   "cell_type": "markdown",
   "metadata": {},
   "source": [
    "# Hypothesis Testing Exercises"
   ]
  },
  {
   "cell_type": "markdown",
   "metadata": {},
   "source": [
    " ## Overview Exercises\n",
    " ***For each of the following questions, formulate a null and alternative hypothesis (be as specific as you can be), then give an example of what a true positive, true negative, type I and type II errors would look like. Note that some of the questions are intentionally phrased in a vague way. It is your job to reword these as more precise questions that could be tested.***"
   ]
  },
  {
   "cell_type": "markdown",
   "metadata": {},
   "source": [
    "- **1. Has the network latency gone up since we switched internet service providers?**\n"
   ]
  },
  {
   "cell_type": "markdown",
   "metadata": {},
   "source": [
    "- H<sub>o</sub> : There is no difference on network latency since switching ISPs\n",
    "- H<sub>*a*</sub> : Switching ISPs has increased network latency\n",
    "\n",
    "\n",
    "- True Positive: Switching ISPs **has** affected latency and we **rejected** H<sub>o</sub> in testing\n",
    "- True Negative: Switching ISPs **has not** affected latency and we **accepted** H<sub>o</sub> in testing\n",
    "- Type I Error:  Switching ISPs **has not** affected latency but we **rejected** H<sub>o</sub> in testing\n",
    "- Type II Error: Switching ISPs **has** affecetd latency but we **accepted** H<sub>o</sub> in testing"
   ]
  },
  {
   "cell_type": "markdown",
   "metadata": {},
   "source": [
    "- **2. Is the website redesign any good?**"
   ]
  },
  {
   "cell_type": "markdown",
   "metadata": {},
   "source": [
    "- H<sub>o</sub> : The website redesign has had no impact on the average time users spend on the website\n",
    "- H<sub>*a*</sub> : The website redesign has increased the average time users spend on the website\n",
    "\n",
    "\n",
    "- True Positive: Redesign **has** increased avg user time and we **rejected** H<sub>o</sub> in testing\n",
    "- True Negative: Redesign **has not** increased avg user time and we **accepted** H<sub>o</sub> in testing\n",
    "- Type I Error:  Redesign **has not** increased avg user time but we **rejected** H<sub>o</sub> in testing\n",
    "- Type II Error: Redesign **has** increased avg user time but we **accepted** H<sub>o</sub> in testing"
   ]
  },
  {
   "cell_type": "markdown",
   "metadata": {},
   "source": [
    "- **3. Is our television ad driving more sales?**"
   ]
  },
  {
   "cell_type": "markdown",
   "metadata": {},
   "source": [
    "- H<sub>o</sub> : Sales have not increased after airing our TV ad\n",
    "- H<sub>*a*</sub> : Sales have increased since airing our TV ad \n",
    "\n",
    "\n",
    "- True Positive: Sales **have** increased and we **rejected** H<sub>o</sub> in testing\n",
    "- True Negative: Sales  **have not** increased and we **accepted** H<sub>o</sub> in testing\n",
    "- Type I Error:  Sales **have not** increased but we **rejected** H<sub>o</sub> in testing\n",
    "- Type II Error: Sales **have** increased but we **accepted** H<sub>o</sub> in testing"
   ]
  },
  {
   "cell_type": "markdown",
   "metadata": {},
   "source": [
    "## T-test Exercises"
   ]
  },
  {
   "cell_type": "code",
   "execution_count": null,
   "metadata": {},
   "outputs": [],
   "source": [
    "from math import sqrt\n",
    "from scipy import stats\n",
    "from scipy.stats import ttest_ind_from_stats\n",
    "\n",
    "%matplotlib inline\n",
    "import matplotlib.pyplot as plt\n",
    "import numpy as np\n",
    "import pandas as pd\n",
    "import seaborn as sns"
   ]
  },
  {
   "cell_type": "markdown",
   "metadata": {},
   "source": [
    "### Ace Realty wants to determine whether the average time it takes to sell homes is different for its two offices. A sample of 40 sales from office #1 revealed a mean of 90 days and a standard deviation of 15 days. A sample of 50 sales from office #2 revealed a mean of 100 days and a standard deviation of 20 days. Use a .05 level of significance."
   ]
  },
  {
   "cell_type": "code",
   "execution_count": null,
   "metadata": {},
   "outputs": [],
   "source": [
    "#List the data we have \n",
    "\n",
    "#Avg time it takes each office to sell homes\n",
    "office_1_mean = 90\n",
    "office_2_mean = 100\n",
    "\n",
    "#Stdev for the avg time it takes to sell homes \n",
    "office_1_sd = 15\n",
    "office_2_sd = 20"
   ]
  },
  {
   "cell_type": "code",
   "execution_count": null,
   "metadata": {},
   "outputs": [],
   "source": [
    "#Setup the test and set the confidence level\n",
    "null_hypothesis = \"There is no difference in average time for selling homes between the two Ace Realty offices\"\n",
    "alt_hypothesis = \"There is a difference in avg time for selling homes\"\n",
    "confidence_level = .95\n",
    "a = 1 - confidence_level"
   ]
  },
  {
   "cell_type": "code",
   "execution_count": null,
   "metadata": {},
   "outputs": [],
   "source": [
    "#Use scipy to conduct the t-test\n",
    "t, p = stats.ttest_ind_from_stats(office_1_mean, office_1_sd, 40, office_2_mean, office_2_sd, 50)\n",
    "t, p"
   ]
  },
  {
   "cell_type": "code",
   "execution_count": null,
   "metadata": {},
   "outputs": [],
   "source": [
    "if p > a:\n",
    "    print(f\"{null_hypothesis}\")\n",
    "else:\n",
    "    print(f\"Reject the null hypothesis. {alt_hypothesis}.\")"
   ]
  },
  {
   "cell_type": "markdown",
   "metadata": {},
   "source": [
    "### Load the mpg dataset and use it to answer the following questions:"
   ]
  },
  {
   "cell_type": "code",
   "execution_count": null,
   "metadata": {},
   "outputs": [],
   "source": [
    "from pydataset import data\n",
    "mpg = data(\"mpg\")\n",
    "mpg.head()"
   ]
  },
  {
   "cell_type": "markdown",
   "metadata": {},
   "source": [
    "- **Is there a difference in fuel-efficiency in cars from 2008 vs 1999?**"
   ]
  },
  {
   "cell_type": "code",
   "execution_count": null,
   "metadata": {},
   "outputs": [],
   "source": [
    "#Prepare the data:\n",
    "\n",
    "#Step 1: Calculate the avg mpg\n",
    "mpg['avg_mpg'] = (mpg.cty + mpg.hwy) / 2\n",
    "mpg.head()\n",
    "\n",
    "#Note from demo: In the future, when dealing with rates(ratios) like mpg, I may want to use harmonic mean instead of arithmatic mean"
   ]
  },
  {
   "cell_type": "code",
   "execution_count": null,
   "metadata": {},
   "outputs": [],
   "source": [
    "#Step 2: Classify vehicles by the years 2008 and 1999\n",
    "cars_from_99 = mpg[mpg.year == 1999]\n",
    "cars_from_08 = mpg[mpg.year == 2008] "
   ]
  },
  {
   "cell_type": "code",
   "execution_count": null,
   "metadata": {},
   "outputs": [],
   "source": [
    "#Setup the test and set the confidence level\n",
    "null_hypothesis = \"There is no difference in fuel-efficiency in cars from 2008 vs 1999\"\n",
    "alt_hypothesis = \"There is a difference in fuel-efficiency in cars from 2008 vs 1999\"\n",
    "\n",
    "confidence_level = .95\n",
    "a = 1 - confidence_level"
   ]
  },
  {
   "cell_type": "code",
   "execution_count": null,
   "metadata": {},
   "outputs": [],
   "source": [
    "#Use ttest_ind for a two sample t-test\n",
    "t, p = stats.ttest_ind(cars_from_99.avg_mpg,cars_from_08.avg_mpg)\n",
    "t, p"
   ]
  },
  {
   "cell_type": "code",
   "execution_count": null,
   "metadata": {},
   "outputs": [],
   "source": [
    "#Use a two-tailed test\n",
    "if p < a: \n",
    "    print(\"Reject the null hypothesis that there is no difference in fuel-efficiency\")\n",
    "    print(\"Move forward with the understanding that there is a difference in efficiency between cars from 1999 and 2008\")\n",
    "else:\n",
    "    print(\"Fail to reject the null hypothesis.\")\n",
    "    print(\"Not enough evidence to support a difference in fuel-efficiency.\")"
   ]
  },
  {
   "cell_type": "markdown",
   "metadata": {},
   "source": [
    "- **Are compact cars more fuel-efficient than the average car?**"
   ]
  },
  {
   "cell_type": "code",
   "execution_count": null,
   "metadata": {},
   "outputs": [],
   "source": [
    "#Rename the class column because class is a reserved word in python\n",
    "mpg = mpg.rename(columns={'class': 'class_of_car'})\n"
   ]
  },
  {
   "cell_type": "code",
   "execution_count": null,
   "metadata": {},
   "outputs": [],
   "source": [
    "#Separate the compact car data sets to compare against the population\n",
    "compact_cars = mpg[mpg.class_of_car == \"compact\"]"
   ]
  },
  {
   "cell_type": "code",
   "execution_count": null,
   "metadata": {},
   "outputs": [],
   "source": [
    "#Setup the test and set the confidence level\n",
    "null_hypothesis = \"There is no difference in fuel-efficiency for compact vs average cars\"\n",
    "alt_hypothesis = \"Compact cars are more efficient than the average car\"\n",
    "confidence_level = .95\n",
    "a = 1 - confidence_level"
   ]
  },
  {
   "cell_type": "code",
   "execution_count": null,
   "metadata": {},
   "outputs": [],
   "source": [
    "#use ttest_ind for a one-sample t-test\n",
    "t, p = stats.ttest_1samp(compact_cars.avg_mpg, mpg.avg_mpg.mean())\n",
    "t,p"
   ]
  },
  {
   "cell_type": "code",
   "execution_count": null,
   "metadata": {},
   "outputs": [],
   "source": [
    "#Set a one-tailed test \n",
    "if p/2 < a and t > 0:\n",
    "    print(\"Reject the null hypothesis that states there is no difference in fuel-efficiency\")\n",
    "    print(\"Move forward with the understanding that compact cars are more efficient than the average car.\")\n",
    "else:\n",
    "    print(f'Fail to reject the null hypothesis. There is not enough eveidence to support the claim: {alt_hypothesis}')"
   ]
  },
  {
   "cell_type": "markdown",
   "metadata": {},
   "source": [
    "- **Do manual cars get better gas mileage than automatic cars?**"
   ]
  },
  {
   "cell_type": "code",
   "execution_count": null,
   "metadata": {},
   "outputs": [],
   "source": [
    "#Prepare the data by grouping manual and automatic cars\n",
    "def trans_type(x):\n",
    "    if \"auto\" in x:\n",
    "        return \"auto\"\n",
    "    else:\n",
    "        return \"manual\""
   ]
  },
  {
   "cell_type": "code",
   "execution_count": null,
   "metadata": {},
   "outputs": [],
   "source": [
    "#Assign the cars one of two variables where auto == automatic transmission and manual == manual transmission\n",
    "mpg['trans_type'] = mpg.trans.apply(trans_type)"
   ]
  },
  {
   "cell_type": "code",
   "execution_count": null,
   "metadata": {},
   "outputs": [],
   "source": [
    "#Separate the two data sets for comparison\n",
    "auto_cars = mpg[mpg.trans_type == 'auto']\n",
    "manual_cars = mpg[mpg.trans_type == 'manual']"
   ]
  },
  {
   "cell_type": "code",
   "execution_count": null,
   "metadata": {},
   "outputs": [],
   "source": [
    "#Setup the test and select a confidence level \n",
    "null_hypothesis = \"There is no difference in gas mileage for automatic vs manual cars\"\n",
    "alt_hypothesis = \"Manual cars get better gas mileage than automatic cars\"\n",
    "confidence_level = .95\n",
    "a = 1 - confidence_level"
   ]
  },
  {
   "cell_type": "code",
   "execution_count": null,
   "metadata": {},
   "outputs": [],
   "source": [
    "#Use ttest_ind for the two sample t-test\n",
    "t, p = stats.ttest_ind(manual_cars.avg_mpg, auto_cars.avg_mpg)\n",
    "t, p"
   ]
  },
  {
   "cell_type": "code",
   "execution_count": null,
   "metadata": {},
   "outputs": [],
   "source": [
    "#Since we are testing against whether or not manual cars get better gas mileage, I will use a one-tailed test:\n",
    "if p/2 < a and  t > 0:\n",
    "    print(\"Reject the null hypothesis that states there is no difference in gas mileage for automatic vs. manual cars\")\n",
    "    print(\"Move forward with the understanding that manual cars get better gas mileage than automatic cars.\")\n",
    "else:\n",
    "    print(\"Fail to reject the null hypothesis.\")\n",
    "    print(f\"There is not enough evidence to support the claim: {alt_hypothesis}\")"
   ]
  },
  {
   "cell_type": "markdown",
   "metadata": {},
   "source": [
    "## Correlation Exercises"
   ]
  },
  {
   "cell_type": "markdown",
   "metadata": {},
   "source": [
    "**1. Use the telco_churn data.**"
   ]
  },
  {
   "cell_type": "code",
   "execution_count": null,
   "metadata": {},
   "outputs": [],
   "source": [
    "df = pd.read_csv('Cust_Churn_Telco.csv')\n",
    "df.info()"
   ]
  },
  {
   "cell_type": "markdown",
   "metadata": {},
   "source": [
    "- **a.  Does tenure correlate with monthly charges?**"
   ]
  },
  {
   "cell_type": "code",
   "execution_count": null,
   "metadata": {},
   "outputs": [],
   "source": [
    "#Set the confidence interval for the correlation test\n",
    "null_hypothesis = 'There is no correlation between tenure and monthly charges'\n",
    "alt_hypothesis = 'There is a correlation between tenure and monthly charges'\n",
    "confidence_int = .95\n",
    "a = 1 - confidence_int"
   ]
  },
  {
   "cell_type": "code",
   "execution_count": null,
   "metadata": {},
   "outputs": [],
   "source": [
    "#visualize the data\n",
    "sns.scatterplot(x='tenure', y='MonthlyCharges', data=df)"
   ]
  },
  {
   "cell_type": "code",
   "execution_count": null,
   "metadata": {},
   "outputs": [],
   "source": [
    "#Setup the correlation test\n",
    "corr, p = stats.pearsonr(df.tenure, df.MonthlyCharges)\n",
    "corr, p"
   ]
  },
  {
   "cell_type": "code",
   "execution_count": null,
   "metadata": {},
   "outputs": [],
   "source": [
    "if p < a:\n",
    "    print(\"Reject the null hypothesis\")\n",
    "    print(\"Move forward with the understanding there is a correlation between monthly charges and tenure\")\n",
    "else:\n",
    "    print(\"Fail to reject the null hypothesis.\")\n",
    "    print(\"N\")"
   ]
  },
  {
   "cell_type": "markdown",
   "metadata": {},
   "source": [
    " - **b. Total charges?**"
   ]
  },
  {
   "cell_type": "code",
   "execution_count": null,
   "metadata": {},
   "outputs": [],
   "source": [
    "#Clean the data to remove nulls\n",
    "telco_churn = df[df.TotalCharges > 0]\n",
    "telco_churn.sort_values(by=\"TotalCharges\")"
   ]
  },
  {
   "cell_type": "code",
   "execution_count": null,
   "metadata": {},
   "outputs": [],
   "source": [
    "#Set the confidence interval for the correlation test\n",
    "null_hypothesis = 'There is no correlation between tenure and total charges'\n",
    "alt_hypothesis = 'There is a correlation between tenure and total charges'\n",
    "confidence_int = .95\n",
    "a = 1 - confidence_int"
   ]
  },
  {
   "cell_type": "code",
   "execution_count": null,
   "metadata": {},
   "outputs": [],
   "source": [
    "#visualize the data\n",
    "sns.scatterplot(x='tenure', y='TotalCharges', data=telco_churn)"
   ]
  },
  {
   "cell_type": "code",
   "execution_count": null,
   "metadata": {},
   "outputs": [],
   "source": [
    "corr, p = stats.pearsonr(telco_churn.tenure, telco_churn.TotalCharges)\n",
    "corr, p"
   ]
  },
  {
   "cell_type": "code",
   "execution_count": null,
   "metadata": {},
   "outputs": [],
   "source": [
    "if p < a:\n",
    "    print(\"Reject the null hypothesis\")\n",
    "    print(\"Move forward with the understanding there is a correlation between total charges and tenure\")\n",
    "else:\n",
    "    print(\"Fail to reject the null hypothesis.\")\n",
    "    print(\"N\")"
   ]
  },
  {
   "cell_type": "markdown",
   "metadata": {},
   "source": [
    " - **c. What happens if you control for phone and internet service?**"
   ]
  },
  {
   "cell_type": "code",
   "execution_count": null,
   "metadata": {},
   "outputs": [],
   "source": [
    "#Setup correlation test and control for phone service only\n",
    "null_hypothesis = \"There is no correlation between tenure and monthly charges for customers with phone service only \"\n",
    "alt_hypothesis = \"There is a correlation between tenure and monthly charges for phone service customers\"\n",
    "confidence_int = .95\n",
    "a = 1 - confidence_int"
   ]
  },
  {
   "cell_type": "code",
   "execution_count": null,
   "metadata": {},
   "outputs": [],
   "source": [
    "r_tenure_phone_only = corr, p = stats.pearsonr(telco_churn.tenure[(telco_churn.PhoneService == \"Yes\") & (telco_churn.InternetService == \"No\")], telco_churn.MonthlyCharges[(telco_churn.PhoneService == \"Yes\") & (telco_churn.InternetService == \"No\")])\n",
    "r_tenure_phone_only"
   ]
  },
  {
   "cell_type": "code",
   "execution_count": null,
   "metadata": {},
   "outputs": [],
   "source": [
    "if p < a:\n",
    "    print(\"Reject the null hypothesis\")\n",
    "    print(\"Move forward with the understanding there is a correlation between monthly charges and tenure for phone service customers\")\n",
    "else:\n",
    "    print(\"Fail to reject the null hypothesis.\")\n",
    "    print(\"N\")"
   ]
  },
  {
   "cell_type": "code",
   "execution_count": null,
   "metadata": {},
   "outputs": [],
   "source": [
    "#Setup correlation test and control for internet service only\n",
    "null_hypothesis = \"There is no correlation between tenure and monthly charges for customers with internet service only \"\n",
    "alt_hypothesis = \"There is a correlation between tenure and monthly charges for internet service customers\"\n",
    "confidence_int = .95\n",
    "a = 1 - confidence_int"
   ]
  },
  {
   "cell_type": "code",
   "execution_count": null,
   "metadata": {},
   "outputs": [],
   "source": [
    "r_tenure_internet_only = corr, p = stats.pearsonr(telco_churn.tenure[(telco_churn.PhoneService == \"No\") & (telco_churn.InternetService != \"No\")], telco_churn.MonthlyCharges[(telco_churn.PhoneService == \"No\") & (telco_churn.InternetService != \"No\")])\n",
    "r_tenure_internet_only"
   ]
  },
  {
   "cell_type": "code",
   "execution_count": null,
   "metadata": {},
   "outputs": [],
   "source": [
    "if p < a:\n",
    "    print(\"Reject the null hypothesis\")\n",
    "    print(\"Move forward with the understanding there is a correlation between monthly charges and tenure for phone service customers\")\n",
    "else:\n",
    "    print(\"Fail to reject the null hypothesis.\")\n",
    "    print(\"N\")"
   ]
  },
  {
   "cell_type": "markdown",
   "metadata": {},
   "source": [
    "### The solution below was shared as a more advanced solution during the exercise demo. I am including the code here to refer back to in the future as an example of a way to use nested dictionaries and loops to control for multiple variables in a more programmtic way:"
   ]
  },
  {
   "cell_type": "code",
   "execution_count": null,
   "metadata": {},
   "outputs": [],
   "source": [
    "telco_churn['InternetService'] = 'Internet Service: ' + telco_churn['InternetService']\n",
    "telco_churn['PhoneService'] = 'Phone Service: ' + telco_churn['PhoneService']\n",
    "telco_churn['Internet_and_Phone'] = telco_churn['InternetService'] + telco_churn['PhoneService']"
   ]
  },
  {
   "cell_type": "code",
   "execution_count": null,
   "metadata": {},
   "outputs": [],
   "source": [
    "telco_churn['Internet_and_Phone'].value_counts()"
   ]
  },
  {
   "cell_type": "code",
   "execution_count": null,
   "metadata": {},
   "outputs": [],
   "source": [
    "x = {}\n",
    "y = {}\n",
    "control = ['InternetService', 'PhoneService', 'Internet_and_Phone']\n",
    "for cntrl in control:\n",
    "    for val in telco_churn[cntrl].unique():\n",
    "        x[val] = {}\n",
    "        y[val] = {}\n",
    "        x[val]['tenure'] = telco_churn['tenure'][telco_churn[cntrl]== val]\n",
    "        y[val]['TotalCharges'] = telco_churn['TotalCharges'][telco_churn[cntrl]== val]\n",
    "        y[val]['MonthlyCharges'] = telco_churn['MonthlyCharges'][telco_churn[cntrl]== val]"
   ]
  },
  {
   "cell_type": "code",
   "execution_count": null,
   "metadata": {},
   "outputs": [],
   "source": [
    "x['Internet Service: DSL'].keys()"
   ]
  },
  {
   "cell_type": "code",
   "execution_count": null,
   "metadata": {},
   "outputs": [],
   "source": [
    "for key in y:\n",
    "    print('For customers with {key}: ')\n",
    "    for subkey in y[key]:\n",
    "        print(f'For an x of tenure and a y of {subkey}: ')\n",
    "        r, p = stats.pearsonr(x[key]['tenure'], y[key][subkey])\n",
    "        print(f'Pearson Correlation is calculated at {r} with a p value of {p}')\n",
    "        if p < 0.05:\n",
    "            print(f' p is less than our alpha and we can reject the null hypothesis')\n",
    "        plt.title(f'For an x of tenure and a y of {subkey} under the control of {key}, r={r:.3f}')\n",
    "        plt.scatter(x[key]['tenure'], y[key][subkey])\n",
    "        plt.show()\n",
    "        plt.clf()\n",
    "        print('------------------------------------')\n",
    "        print('------------------------------------')\n",
    "        print('------------------------------------')"
   ]
  },
  {
   "cell_type": "markdown",
   "metadata": {},
   "source": [
    "### Use the employees database."
   ]
  },
  {
   "cell_type": "code",
   "execution_count": null,
   "metadata": {},
   "outputs": [],
   "source": [
    "from env import host, user, password\n",
    "\n",
    "def get_db_url(db, user=user, host=host, password=password):\n",
    "    return f'mysql+pymysql://{user}:{password}@{host}/employees'"
   ]
  },
  {
   "cell_type": "markdown",
   "metadata": {},
   "source": [
    "- **Is there a relationship between how long an employee has been with the company and their salary?**"
   ]
  },
  {
   "cell_type": "markdown",
   "metadata": {},
   "source": [
    "Need to prepare data by: \n",
    "- Group data by emp_no so each employee only appears once\n",
    "    - This is a good example of where I would need to get clarification in the planning stage of the DS pipeline by asking the following questions:\n",
    "        - Do we want analysis to be inclusive of an employees past titles and salaries? \n",
    "        - How does including an employees previous titles (and presumably lower salaries) affect the data analysis? \n",
    "        - On the flipside: if we do not account for this individual change of salary and title over time, how does that affect the analysis? \n",
    "        - Is an employee who has had the same title for 10 years comparable to an employee who has seen x number of raises and title changes over the same 10 yeat period?\n",
    "        \n",
    "- Calculate employee tenure\n",
    "    - Need to deal with to_dates for current employees"
   ]
  },
  {
   "cell_type": "code",
   "execution_count": null,
   "metadata": {},
   "outputs": [],
   "source": [
    "sql = \"\"\"\n",
    "select *, datediff(CURDATE(), hire_date) as 'tenure'\n",
    "from employees as emp\n",
    "JOIN salaries using (emp_no)\n",
    "JOIN titles using (emp_no) \n",
    "WHERE salaries.to_date >= CURDATE()\n",
    "\"\"\"\n",
    "\n",
    "employees = pd.read_sql(sql, get_db_url('employees'))\n",
    "employees.head()"
   ]
  },
  {
   "cell_type": "code",
   "execution_count": null,
   "metadata": {},
   "outputs": [],
   "source": [
    "employees.info()"
   ]
  },
  {
   "cell_type": "code",
   "execution_count": null,
   "metadata": {},
   "outputs": [],
   "source": [
    "#Prepare data: drop salary.to_date column\n",
    "employees = employees.drop(columns={employees.columns[8]})\n",
    "employees.head()"
   ]
  },
  {
   "cell_type": "code",
   "execution_count": null,
   "metadata": {},
   "outputs": [],
   "source": [
    "#Set up correlation test:\n",
    "null_hypothesis = \"There is no correlation between tenure and salary\"\n",
    "alt_hypothesis = \"Salary and tenure are correlated\"\n",
    "confidence_int = .95\n",
    "a = 1 - confidence_level"
   ]
  },
  {
   "cell_type": "code",
   "execution_count": null,
   "metadata": {},
   "outputs": [],
   "source": [
    "corr, p = stats.pearsonr(employees.tenure, employees.salary)\n",
    "corr, p"
   ]
  },
  {
   "cell_type": "code",
   "execution_count": null,
   "metadata": {},
   "outputs": [],
   "source": [
    "if p < a:\n",
    "    print(\"Reject the null hypothesis\")\n",
    "    print(\"Move forward with the understanding there is a correlation between salary and tenure\")\n",
    "else:\n",
    "    print(\"Fail to reject the null hypothesis.\")"
   ]
  },
  {
   "cell_type": "markdown",
   "metadata": {},
   "source": [
    "- **Is there a relationship between how long an employee has been with the company and the number of titles they have had?**"
   ]
  },
  {
   "cell_type": "code",
   "execution_count": 148,
   "metadata": {},
   "outputs": [
    {
     "data": {
      "text/html": [
       "<div>\n",
       "<style scoped>\n",
       "    .dataframe tbody tr th:only-of-type {\n",
       "        vertical-align: middle;\n",
       "    }\n",
       "\n",
       "    .dataframe tbody tr th {\n",
       "        vertical-align: top;\n",
       "    }\n",
       "\n",
       "    .dataframe thead th {\n",
       "        text-align: right;\n",
       "    }\n",
       "</style>\n",
       "<table border=\"1\" class=\"dataframe\">\n",
       "  <thead>\n",
       "    <tr style=\"text-align: right;\">\n",
       "      <th></th>\n",
       "      <th>emp_no</th>\n",
       "      <th>birth_date</th>\n",
       "      <th>first_name</th>\n",
       "      <th>last_name</th>\n",
       "      <th>gender</th>\n",
       "      <th>hire_date</th>\n",
       "      <th>salary</th>\n",
       "      <th>from_date</th>\n",
       "      <th>title</th>\n",
       "      <th>from_date</th>\n",
       "      <th>tenure</th>\n",
       "    </tr>\n",
       "  </thead>\n",
       "  <tbody>\n",
       "    <tr>\n",
       "      <th>0</th>\n",
       "      <td>10001</td>\n",
       "      <td>1953-09-02</td>\n",
       "      <td>Georgi</td>\n",
       "      <td>Facello</td>\n",
       "      <td>M</td>\n",
       "      <td>1986-06-26</td>\n",
       "      <td>88958</td>\n",
       "      <td>2002-06-22</td>\n",
       "      <td>Senior Engineer</td>\n",
       "      <td>1986-06-26</td>\n",
       "      <td>12652</td>\n",
       "    </tr>\n",
       "    <tr>\n",
       "      <th>1</th>\n",
       "      <td>10002</td>\n",
       "      <td>1964-06-02</td>\n",
       "      <td>Bezalel</td>\n",
       "      <td>Simmel</td>\n",
       "      <td>F</td>\n",
       "      <td>1985-11-21</td>\n",
       "      <td>72527</td>\n",
       "      <td>2001-08-02</td>\n",
       "      <td>Staff</td>\n",
       "      <td>1996-08-03</td>\n",
       "      <td>12869</td>\n",
       "    </tr>\n",
       "    <tr>\n",
       "      <th>2</th>\n",
       "      <td>10003</td>\n",
       "      <td>1959-12-03</td>\n",
       "      <td>Parto</td>\n",
       "      <td>Bamford</td>\n",
       "      <td>M</td>\n",
       "      <td>1986-08-28</td>\n",
       "      <td>43311</td>\n",
       "      <td>2001-12-01</td>\n",
       "      <td>Senior Engineer</td>\n",
       "      <td>1995-12-03</td>\n",
       "      <td>12589</td>\n",
       "    </tr>\n",
       "    <tr>\n",
       "      <th>3</th>\n",
       "      <td>10004</td>\n",
       "      <td>1954-05-01</td>\n",
       "      <td>Chirstian</td>\n",
       "      <td>Koblick</td>\n",
       "      <td>M</td>\n",
       "      <td>1986-12-01</td>\n",
       "      <td>74057</td>\n",
       "      <td>2001-11-27</td>\n",
       "      <td>Engineer</td>\n",
       "      <td>1986-12-01</td>\n",
       "      <td>12494</td>\n",
       "    </tr>\n",
       "    <tr>\n",
       "      <th>4</th>\n",
       "      <td>10004</td>\n",
       "      <td>1954-05-01</td>\n",
       "      <td>Chirstian</td>\n",
       "      <td>Koblick</td>\n",
       "      <td>M</td>\n",
       "      <td>1986-12-01</td>\n",
       "      <td>74057</td>\n",
       "      <td>2001-11-27</td>\n",
       "      <td>Senior Engineer</td>\n",
       "      <td>1995-12-01</td>\n",
       "      <td>12494</td>\n",
       "    </tr>\n",
       "  </tbody>\n",
       "</table>\n",
       "</div>"
      ],
      "text/plain": [
       "   emp_no  birth_date first_name last_name gender   hire_date  salary  \\\n",
       "0   10001  1953-09-02     Georgi   Facello      M  1986-06-26   88958   \n",
       "1   10002  1964-06-02    Bezalel    Simmel      F  1985-11-21   72527   \n",
       "2   10003  1959-12-03      Parto   Bamford      M  1986-08-28   43311   \n",
       "3   10004  1954-05-01  Chirstian   Koblick      M  1986-12-01   74057   \n",
       "4   10004  1954-05-01  Chirstian   Koblick      M  1986-12-01   74057   \n",
       "\n",
       "    from_date            title   from_date  tenure  \n",
       "0  2002-06-22  Senior Engineer  1986-06-26   12652  \n",
       "1  2001-08-02            Staff  1996-08-03   12869  \n",
       "2  2001-12-01  Senior Engineer  1995-12-03   12589  \n",
       "3  2001-11-27         Engineer  1986-12-01   12494  \n",
       "4  2001-11-27  Senior Engineer  1995-12-01   12494  "
      ]
     },
     "execution_count": 148,
     "metadata": {},
     "output_type": "execute_result"
    }
   ],
   "source": [
    "employees.head()"
   ]
  },
  {
   "cell_type": "code",
   "execution_count": 149,
   "metadata": {},
   "outputs": [],
   "source": [
    "employees = employees.drop(columns={'birth_date', 'from_date'})"
   ]
  },
  {
   "cell_type": "code",
   "execution_count": 177,
   "metadata": {},
   "outputs": [],
   "source": [
    "employees= employees.drop(columns={'title_count'})"
   ]
  },
  {
   "cell_type": "code",
   "execution_count": 178,
   "metadata": {},
   "outputs": [],
   "source": [
    "countref = employees.groupby('emp_no').count()[['title']].rename(columns={'title': 'titlecount'})"
   ]
  },
  {
   "cell_type": "code",
   "execution_count": 179,
   "metadata": {},
   "outputs": [
    {
     "data": {
      "text/html": [
       "<div>\n",
       "<style scoped>\n",
       "    .dataframe tbody tr th:only-of-type {\n",
       "        vertical-align: middle;\n",
       "    }\n",
       "\n",
       "    .dataframe tbody tr th {\n",
       "        vertical-align: top;\n",
       "    }\n",
       "\n",
       "    .dataframe thead th {\n",
       "        text-align: right;\n",
       "    }\n",
       "</style>\n",
       "<table border=\"1\" class=\"dataframe\">\n",
       "  <thead>\n",
       "    <tr style=\"text-align: right;\">\n",
       "      <th></th>\n",
       "      <th>emp_no</th>\n",
       "      <th>first_name</th>\n",
       "      <th>last_name</th>\n",
       "      <th>gender</th>\n",
       "      <th>hire_date</th>\n",
       "      <th>salary</th>\n",
       "      <th>title</th>\n",
       "      <th>tenure</th>\n",
       "    </tr>\n",
       "  </thead>\n",
       "  <tbody>\n",
       "    <tr>\n",
       "      <th>0</th>\n",
       "      <td>10001</td>\n",
       "      <td>Georgi</td>\n",
       "      <td>Facello</td>\n",
       "      <td>M</td>\n",
       "      <td>1986-06-26</td>\n",
       "      <td>88958</td>\n",
       "      <td>Senior Engineer</td>\n",
       "      <td>12652</td>\n",
       "    </tr>\n",
       "    <tr>\n",
       "      <th>1</th>\n",
       "      <td>10002</td>\n",
       "      <td>Bezalel</td>\n",
       "      <td>Simmel</td>\n",
       "      <td>F</td>\n",
       "      <td>1985-11-21</td>\n",
       "      <td>72527</td>\n",
       "      <td>Staff</td>\n",
       "      <td>12869</td>\n",
       "    </tr>\n",
       "    <tr>\n",
       "      <th>2</th>\n",
       "      <td>10003</td>\n",
       "      <td>Parto</td>\n",
       "      <td>Bamford</td>\n",
       "      <td>M</td>\n",
       "      <td>1986-08-28</td>\n",
       "      <td>43311</td>\n",
       "      <td>Senior Engineer</td>\n",
       "      <td>12589</td>\n",
       "    </tr>\n",
       "    <tr>\n",
       "      <th>3</th>\n",
       "      <td>10004</td>\n",
       "      <td>Chirstian</td>\n",
       "      <td>Koblick</td>\n",
       "      <td>M</td>\n",
       "      <td>1986-12-01</td>\n",
       "      <td>74057</td>\n",
       "      <td>Engineer</td>\n",
       "      <td>12494</td>\n",
       "    </tr>\n",
       "    <tr>\n",
       "      <th>4</th>\n",
       "      <td>10004</td>\n",
       "      <td>Chirstian</td>\n",
       "      <td>Koblick</td>\n",
       "      <td>M</td>\n",
       "      <td>1986-12-01</td>\n",
       "      <td>74057</td>\n",
       "      <td>Senior Engineer</td>\n",
       "      <td>12494</td>\n",
       "    </tr>\n",
       "  </tbody>\n",
       "</table>\n",
       "</div>"
      ],
      "text/plain": [
       "   emp_no first_name last_name gender   hire_date  salary            title  \\\n",
       "0   10001     Georgi   Facello      M  1986-06-26   88958  Senior Engineer   \n",
       "1   10002    Bezalel    Simmel      F  1985-11-21   72527            Staff   \n",
       "2   10003      Parto   Bamford      M  1986-08-28   43311  Senior Engineer   \n",
       "3   10004  Chirstian   Koblick      M  1986-12-01   74057         Engineer   \n",
       "4   10004  Chirstian   Koblick      M  1986-12-01   74057  Senior Engineer   \n",
       "\n",
       "   tenure  \n",
       "0   12652  \n",
       "1   12869  \n",
       "2   12589  \n",
       "3   12494  \n",
       "4   12494  "
      ]
     },
     "execution_count": 179,
     "metadata": {},
     "output_type": "execute_result"
    }
   ],
   "source": [
    "employees.head()"
   ]
  },
  {
   "cell_type": "code",
   "execution_count": 183,
   "metadata": {},
   "outputs": [],
   "source": [
    "merged = pd.merge(employees, countref, how='left', on='emp_no')"
   ]
  },
  {
   "cell_type": "markdown",
   "metadata": {},
   "source": [
    "### Use the sleepstudy data. Is there a relationship between days and reaction time?"
   ]
  },
  {
   "cell_type": "markdown",
   "metadata": {},
   "source": [
    "## Chi Square Exercises"
   ]
  },
  {
   "cell_type": "markdown",
   "metadata": {},
   "source": [
    "### 1. Use the following contingency table to help answer the question of whether using a macbook and being a codeup student are independent of each other."
   ]
  },
  {
   "cell_type": "code",
   "execution_count": null,
   "metadata": {},
   "outputs": [],
   "source": [
    "contingency = pd.DataFrame({'codeup_student': [49,1], 'not_codeup': [20,30]}, index=['uses_macbook', 'no_macbook'])\n",
    "contingency"
   ]
  },
  {
   "cell_type": "code",
   "execution_count": null,
   "metadata": {},
   "outputs": [],
   "source": [
    "null_hypothesis = \"Being a codeup student is not dependent upon using a mac\"\n",
    "alt_hypothesis = \"Being a codeup student is dependent upon using a mac\"\n",
    "confidence_interval = .95\n",
    "a = 1 - confidence_interval"
   ]
  },
  {
   "cell_type": "code",
   "execution_count": null,
   "metadata": {},
   "outputs": [],
   "source": [
    "chi2, p, degf, expected = stats.chi2_contingency(contingency)\n",
    "chi2, p, degf, expected"
   ]
  },
  {
   "cell_type": "code",
   "execution_count": null,
   "metadata": {},
   "outputs": [],
   "source": [
    "if p < a:\n",
    "    print(\"We reject the null\")\n",
    "else:\n",
    "    print(\"We fail to reject the null\")"
   ]
  },
  {
   "cell_type": "markdown",
   "metadata": {},
   "source": [
    "### 2. Choose another 2 categorical variables from the mpg dataset and perform a Chi Square contingency table test with them. Be sure to state your null and alternative hypotheses."
   ]
  },
  {
   "cell_type": "code",
   "execution_count": null,
   "metadata": {},
   "outputs": [],
   "source": [
    "null_hypothesis = \"City fuel-efficiency is not dependent upon the number of cylinders\"\n",
    "alt_hypothesis = \"City fuel-efficiency is dependent upon the number of cylinders\"\n",
    "confidence_level = .95\n",
    "a = 1 - confidence_level"
   ]
  },
  {
   "cell_type": "code",
   "execution_count": null,
   "metadata": {},
   "outputs": [],
   "source": [
    "observed = pd.crosstab(mpg.cyl, mpg.cty)\n",
    "observed"
   ]
  },
  {
   "cell_type": "code",
   "execution_count": null,
   "metadata": {},
   "outputs": [],
   "source": [
    "chi2, p, degf, expected = stats.chi2_contingency(observed)"
   ]
  },
  {
   "cell_type": "code",
   "execution_count": null,
   "metadata": {},
   "outputs": [],
   "source": [
    "chi2, p, degf, expected"
   ]
  },
  {
   "cell_type": "code",
   "execution_count": null,
   "metadata": {},
   "outputs": [],
   "source": [
    "if p < a:\n",
    "    print(\"We reject the null\")\n",
    "else:\n",
    "    print(\"We fail to reject the null\")"
   ]
  },
  {
   "cell_type": "markdown",
   "metadata": {},
   "source": [
    "### 3. Use the data from the employees database to answer these questions:"
   ]
  },
  {
   "cell_type": "code",
   "execution_count": null,
   "metadata": {},
   "outputs": [],
   "source": [
    "sql = \"\"\"\n",
    "select *\n",
    "from employees\n",
    "JOIN dept_emp using (emp_no)\n",
    "JOIN departments using (dept_no)\n",
    "WHERE to_date > CURDATE()\n",
    "\"\"\"\n",
    "\n",
    "employees = pd.read_sql(sql, get_db_url('employees'))\n",
    "employees.head()"
   ]
  },
  {
   "cell_type": "markdown",
   "metadata": {},
   "source": [
    "- **Is an employee's gender independent of whether an employee works in sales or marketing? (only look at current employees)**"
   ]
  },
  {
   "cell_type": "code",
   "execution_count": null,
   "metadata": {},
   "outputs": [],
   "source": [
    "employees[\"sales_and_marketing\"] = employees['dept_name'] == (\"Sales\" or \"Marketing\")"
   ]
  },
  {
   "cell_type": "code",
   "execution_count": null,
   "metadata": {},
   "outputs": [],
   "source": [
    "null_hypothesis = \"Working in Sales or Marketing is not dependent on gender\"\n",
    "alt_hypothesis = \"Working in Sales or Marketing is dependent on gender\"\n",
    "confidence_level = .95\n",
    "a = 1 - confidence_level"
   ]
  },
  {
   "cell_type": "code",
   "execution_count": null,
   "metadata": {},
   "outputs": [],
   "source": [
    "observed = pd.crosstab(employees.gender, employees.sales_and_marketing)\n",
    "observed"
   ]
  },
  {
   "cell_type": "code",
   "execution_count": null,
   "metadata": {},
   "outputs": [],
   "source": [
    "chi2, p, degf, expected = stats.chi2_contingency(observed)\n",
    "\n",
    "if p < a:\n",
    "    print(\"We reject the null hypothesis\")\n",
    "else:\n",
    "    print(\"We fail to reject the null\")\n",
    "p"
   ]
  },
  {
   "cell_type": "markdown",
   "metadata": {},
   "source": [
    "- **Is an employee's gender independent of whether or not they are or have been a manager?**"
   ]
  },
  {
   "cell_type": "code",
   "execution_count": null,
   "metadata": {},
   "outputs": [],
   "source": [
    "sql = \"\"\"\n",
    "select employees.emp_no, employees.gender\n",
    "from employees\n",
    "LEFT JOIN dept_manager ON employees.emp_no = dept_manager.emp_no\n",
    "\n",
    "\"\"\"\n",
    "\n",
    "managers = pd.read_sql(sql, get_db_url('employees'))\n",
    "managers"
   ]
  },
  {
   "cell_type": "code",
   "execution_count": null,
   "metadata": {},
   "outputs": [],
   "source": [
    "managers['is_manager'] = "
   ]
  },
  {
   "cell_type": "code",
   "execution_count": null,
   "metadata": {},
   "outputs": [],
   "source": [
    "observed = pd.crosstab(managers.gender, employees.sales_and_marketing)\n",
    "observed"
   ]
  }
 ],
 "metadata": {
  "kernelspec": {
   "display_name": "Python 3",
   "language": "python",
   "name": "python3"
  },
  "language_info": {
   "codemirror_mode": {
    "name": "ipython",
    "version": 3
   },
   "file_extension": ".py",
   "mimetype": "text/x-python",
   "name": "python",
   "nbconvert_exporter": "python",
   "pygments_lexer": "ipython3",
   "version": "3.8.5"
  }
 },
 "nbformat": 4,
 "nbformat_minor": 4
}

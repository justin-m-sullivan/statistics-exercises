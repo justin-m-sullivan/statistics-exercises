{
 "cells": [
  {
   "cell_type": "markdown",
   "metadata": {},
   "source": [
    "# Hypothesis Testing Exercises"
   ]
  },
  {
   "cell_type": "markdown",
   "metadata": {},
   "source": [
    " ## Overview Exercises\n",
    " ***For each of the following questions, formulate a null and alternative hypothesis (be as specific as you can be), then give an example of what a true positive, true negative, type I and type II errors would look like. Note that some of the questions are intentionally phrased in a vague way. It is your job to reword these as more precise questions that could be tested.***"
   ]
  },
  {
   "cell_type": "markdown",
   "metadata": {},
   "source": [
    "- **1. Has the network latency gone up since we switched internet service providers?**\n"
   ]
  },
  {
   "cell_type": "markdown",
   "metadata": {},
   "source": [
    "- H<sub>o</sub> : There is no difference on network latency since switching ISPs\n",
    "- H<sub>*a*</sub> : Switching ISPs has increased network latency\n",
    "\n",
    "\n",
    "- True Positive: Switching ISPs **has** affected latency and we **rejected** H<sub>o</sub> in testing\n",
    "- True Negative: Switching ISPs **has not** affected latency and we **accepted** H<sub>o</sub> in testing\n",
    "- Type I Error:  Switching ISPs **has not** affected latency but we **rejected** H<sub>o</sub> in testing\n",
    "- Type II Error: Switching ISPs **has** affecetd latency but we **accepted** H<sub>o</sub> in testing"
   ]
  },
  {
   "cell_type": "markdown",
   "metadata": {},
   "source": [
    "- **2. Is the website redesign any good?**"
   ]
  },
  {
   "cell_type": "markdown",
   "metadata": {},
   "source": [
    "- H<sub>o</sub> : The website redesign has had no impact on the average time users spend on the website\n",
    "- H<sub>*a*</sub> : The website redesign has increased the average time users spend on the website\n",
    "\n",
    "\n",
    "- True Positive: Redesign **has** increased avg user time and we **rejected** H<sub>o</sub> in testing\n",
    "- True Negative: Redesign **has not** increased avg user time and we **accepted** H<sub>o</sub> in testing\n",
    "- Type I Error:  Redesign **has not** increased avg user time but we **rejected** H<sub>o</sub> in testing\n",
    "- Type II Error: Redesign **has** increased avg user time but we **accepted** H<sub>o</sub> in testing"
   ]
  },
  {
   "cell_type": "markdown",
   "metadata": {},
   "source": [
    "- **3. Is our television ad driving more sales?**"
   ]
  },
  {
   "cell_type": "markdown",
   "metadata": {},
   "source": [
    "- H<sub>o</sub> : Sales have not increased after airing our TV ad\n",
    "- H<sub>*a*</sub> : Sales have increased since airing our TV ad \n",
    "\n",
    "\n",
    "- True Positive: Sales **have** increased and we **rejected** H<sub>o</sub> in testing\n",
    "- True Negative: Sales  **have not** increased and we **accepted** H<sub>o</sub> in testing\n",
    "- Type I Error:  Sales **have not** increased but we **rejected** H<sub>o</sub> in testing\n",
    "- Type II Error: Sales **have** increased but we **accepted** H<sub>o</sub> in testing"
   ]
  },
  {
   "cell_type": "markdown",
   "metadata": {},
   "source": [
    "## T-test Exercises"
   ]
  },
  {
   "cell_type": "code",
   "execution_count": 12,
   "metadata": {},
   "outputs": [],
   "source": [
    "from math import sqrt\n",
    "from scipy import stats\n",
    "from scipy.stats import ttest_ind_from_stats\n",
    "\n",
    "%matplotlib inline\n",
    "import matplotlib.pyplot as plt\n",
    "import numpy as np\n",
    "import pandas as pd"
   ]
  },
  {
   "cell_type": "markdown",
   "metadata": {},
   "source": [
    "### Ace Realty wants to determine whether the average time it takes to sell homes is different for its two offices. A sample of 40 sales from office #1 revealed a mean of 90 days and a standard deviation of 15 days. A sample of 50 sales from office #2 revealed a mean of 100 days and a standard deviation of 20 days. Use a .05 level of significance."
   ]
  },
  {
   "cell_type": "code",
   "execution_count": 148,
   "metadata": {},
   "outputs": [],
   "source": [
    "#List the data we have \n",
    "\n",
    "#Avg time it takes each office to sell homes\n",
    "office_1_mean = 90\n",
    "office_2_mean = 100\n",
    "\n",
    "#Stdev for the avg time it takes to sell homes \n",
    "office_1_sd = 15\n",
    "office_2_sd = 20"
   ]
  },
  {
   "cell_type": "code",
   "execution_count": 149,
   "metadata": {},
   "outputs": [],
   "source": [
    "#Setup the test and set the confidence level\n",
    "null_hypothesis = \"There is no difference in average time for selling homes between the two Ace Realty offices\"\n",
    "alt_hypothesis = \"There is a difference in avg time for selling homes\"\n",
    "confidence_level = .95\n",
    "a = 1 - confidence_level"
   ]
  },
  {
   "cell_type": "code",
   "execution_count": 152,
   "metadata": {},
   "outputs": [
    {
     "data": {
      "text/plain": [
       "(-2.6252287036468456, 0.01020985244923939)"
      ]
     },
     "execution_count": 152,
     "metadata": {},
     "output_type": "execute_result"
    }
   ],
   "source": [
    "#Use scipy to conduct the t-test\n",
    "t, p = stats.ttest_ind_from_stats(office_1_mean, office_1_sd, 40, office_2_mean, office_2_sd, 50)\n",
    "t, p"
   ]
  },
  {
   "cell_type": "code",
   "execution_count": 151,
   "metadata": {},
   "outputs": [
    {
     "name": "stdout",
     "output_type": "stream",
     "text": [
      "Reject the null hypothesis. There is a difference in avg time for selling homes.\n"
     ]
    }
   ],
   "source": [
    "if p > a:\n",
    "    print(f\"{null_hypothesis}\")\n",
    "else:\n",
    "    print(f\"Reject the null hypothesis. {alt_hypothesis}.\")"
   ]
  },
  {
   "cell_type": "markdown",
   "metadata": {},
   "source": [
    "### Load the mpg dataset and use it to answer the following questions:"
   ]
  },
  {
   "cell_type": "code",
   "execution_count": 153,
   "metadata": {},
   "outputs": [
    {
     "data": {
      "text/html": [
       "<div>\n",
       "<style scoped>\n",
       "    .dataframe tbody tr th:only-of-type {\n",
       "        vertical-align: middle;\n",
       "    }\n",
       "\n",
       "    .dataframe tbody tr th {\n",
       "        vertical-align: top;\n",
       "    }\n",
       "\n",
       "    .dataframe thead th {\n",
       "        text-align: right;\n",
       "    }\n",
       "</style>\n",
       "<table border=\"1\" class=\"dataframe\">\n",
       "  <thead>\n",
       "    <tr style=\"text-align: right;\">\n",
       "      <th></th>\n",
       "      <th>manufacturer</th>\n",
       "      <th>model</th>\n",
       "      <th>displ</th>\n",
       "      <th>year</th>\n",
       "      <th>cyl</th>\n",
       "      <th>trans</th>\n",
       "      <th>drv</th>\n",
       "      <th>cty</th>\n",
       "      <th>hwy</th>\n",
       "      <th>fl</th>\n",
       "      <th>class</th>\n",
       "    </tr>\n",
       "  </thead>\n",
       "  <tbody>\n",
       "    <tr>\n",
       "      <th>1</th>\n",
       "      <td>audi</td>\n",
       "      <td>a4</td>\n",
       "      <td>1.8</td>\n",
       "      <td>1999</td>\n",
       "      <td>4</td>\n",
       "      <td>auto(l5)</td>\n",
       "      <td>f</td>\n",
       "      <td>18</td>\n",
       "      <td>29</td>\n",
       "      <td>p</td>\n",
       "      <td>compact</td>\n",
       "    </tr>\n",
       "    <tr>\n",
       "      <th>2</th>\n",
       "      <td>audi</td>\n",
       "      <td>a4</td>\n",
       "      <td>1.8</td>\n",
       "      <td>1999</td>\n",
       "      <td>4</td>\n",
       "      <td>manual(m5)</td>\n",
       "      <td>f</td>\n",
       "      <td>21</td>\n",
       "      <td>29</td>\n",
       "      <td>p</td>\n",
       "      <td>compact</td>\n",
       "    </tr>\n",
       "    <tr>\n",
       "      <th>3</th>\n",
       "      <td>audi</td>\n",
       "      <td>a4</td>\n",
       "      <td>2.0</td>\n",
       "      <td>2008</td>\n",
       "      <td>4</td>\n",
       "      <td>manual(m6)</td>\n",
       "      <td>f</td>\n",
       "      <td>20</td>\n",
       "      <td>31</td>\n",
       "      <td>p</td>\n",
       "      <td>compact</td>\n",
       "    </tr>\n",
       "    <tr>\n",
       "      <th>4</th>\n",
       "      <td>audi</td>\n",
       "      <td>a4</td>\n",
       "      <td>2.0</td>\n",
       "      <td>2008</td>\n",
       "      <td>4</td>\n",
       "      <td>auto(av)</td>\n",
       "      <td>f</td>\n",
       "      <td>21</td>\n",
       "      <td>30</td>\n",
       "      <td>p</td>\n",
       "      <td>compact</td>\n",
       "    </tr>\n",
       "    <tr>\n",
       "      <th>5</th>\n",
       "      <td>audi</td>\n",
       "      <td>a4</td>\n",
       "      <td>2.8</td>\n",
       "      <td>1999</td>\n",
       "      <td>6</td>\n",
       "      <td>auto(l5)</td>\n",
       "      <td>f</td>\n",
       "      <td>16</td>\n",
       "      <td>26</td>\n",
       "      <td>p</td>\n",
       "      <td>compact</td>\n",
       "    </tr>\n",
       "  </tbody>\n",
       "</table>\n",
       "</div>"
      ],
      "text/plain": [
       "  manufacturer model  displ  year  cyl       trans drv  cty  hwy fl    class\n",
       "1         audi    a4    1.8  1999    4    auto(l5)   f   18   29  p  compact\n",
       "2         audi    a4    1.8  1999    4  manual(m5)   f   21   29  p  compact\n",
       "3         audi    a4    2.0  2008    4  manual(m6)   f   20   31  p  compact\n",
       "4         audi    a4    2.0  2008    4    auto(av)   f   21   30  p  compact\n",
       "5         audi    a4    2.8  1999    6    auto(l5)   f   16   26  p  compact"
      ]
     },
     "execution_count": 153,
     "metadata": {},
     "output_type": "execute_result"
    }
   ],
   "source": [
    "from pydataset import data\n",
    "mpg = data(\"mpg\")\n",
    "mpg.head()"
   ]
  },
  {
   "cell_type": "markdown",
   "metadata": {},
   "source": [
    "- **Is there a difference in fuel-efficiency in cars from 2008 vs 1999?**"
   ]
  },
  {
   "cell_type": "code",
   "execution_count": 174,
   "metadata": {},
   "outputs": [
    {
     "data": {
      "text/html": [
       "<div>\n",
       "<style scoped>\n",
       "    .dataframe tbody tr th:only-of-type {\n",
       "        vertical-align: middle;\n",
       "    }\n",
       "\n",
       "    .dataframe tbody tr th {\n",
       "        vertical-align: top;\n",
       "    }\n",
       "\n",
       "    .dataframe thead th {\n",
       "        text-align: right;\n",
       "    }\n",
       "</style>\n",
       "<table border=\"1\" class=\"dataframe\">\n",
       "  <thead>\n",
       "    <tr style=\"text-align: right;\">\n",
       "      <th></th>\n",
       "      <th>manufacturer</th>\n",
       "      <th>model</th>\n",
       "      <th>displ</th>\n",
       "      <th>year</th>\n",
       "      <th>cyl</th>\n",
       "      <th>trans</th>\n",
       "      <th>drv</th>\n",
       "      <th>cty</th>\n",
       "      <th>hwy</th>\n",
       "      <th>fl</th>\n",
       "      <th>class_of_car</th>\n",
       "      <th>avg_mpg</th>\n",
       "    </tr>\n",
       "  </thead>\n",
       "  <tbody>\n",
       "    <tr>\n",
       "      <th>1</th>\n",
       "      <td>audi</td>\n",
       "      <td>a4</td>\n",
       "      <td>1.8</td>\n",
       "      <td>1999</td>\n",
       "      <td>4</td>\n",
       "      <td>auto(l5)</td>\n",
       "      <td>f</td>\n",
       "      <td>18</td>\n",
       "      <td>29</td>\n",
       "      <td>p</td>\n",
       "      <td>compact</td>\n",
       "      <td>23.5</td>\n",
       "    </tr>\n",
       "    <tr>\n",
       "      <th>2</th>\n",
       "      <td>audi</td>\n",
       "      <td>a4</td>\n",
       "      <td>1.8</td>\n",
       "      <td>1999</td>\n",
       "      <td>4</td>\n",
       "      <td>manual(m5)</td>\n",
       "      <td>f</td>\n",
       "      <td>21</td>\n",
       "      <td>29</td>\n",
       "      <td>p</td>\n",
       "      <td>compact</td>\n",
       "      <td>25.0</td>\n",
       "    </tr>\n",
       "    <tr>\n",
       "      <th>3</th>\n",
       "      <td>audi</td>\n",
       "      <td>a4</td>\n",
       "      <td>2.0</td>\n",
       "      <td>2008</td>\n",
       "      <td>4</td>\n",
       "      <td>manual(m6)</td>\n",
       "      <td>f</td>\n",
       "      <td>20</td>\n",
       "      <td>31</td>\n",
       "      <td>p</td>\n",
       "      <td>compact</td>\n",
       "      <td>25.5</td>\n",
       "    </tr>\n",
       "    <tr>\n",
       "      <th>4</th>\n",
       "      <td>audi</td>\n",
       "      <td>a4</td>\n",
       "      <td>2.0</td>\n",
       "      <td>2008</td>\n",
       "      <td>4</td>\n",
       "      <td>auto(av)</td>\n",
       "      <td>f</td>\n",
       "      <td>21</td>\n",
       "      <td>30</td>\n",
       "      <td>p</td>\n",
       "      <td>compact</td>\n",
       "      <td>25.5</td>\n",
       "    </tr>\n",
       "    <tr>\n",
       "      <th>5</th>\n",
       "      <td>audi</td>\n",
       "      <td>a4</td>\n",
       "      <td>2.8</td>\n",
       "      <td>1999</td>\n",
       "      <td>6</td>\n",
       "      <td>auto(l5)</td>\n",
       "      <td>f</td>\n",
       "      <td>16</td>\n",
       "      <td>26</td>\n",
       "      <td>p</td>\n",
       "      <td>compact</td>\n",
       "      <td>21.0</td>\n",
       "    </tr>\n",
       "  </tbody>\n",
       "</table>\n",
       "</div>"
      ],
      "text/plain": [
       "  manufacturer model  displ  year  cyl       trans drv  cty  hwy fl  \\\n",
       "1         audi    a4    1.8  1999    4    auto(l5)   f   18   29  p   \n",
       "2         audi    a4    1.8  1999    4  manual(m5)   f   21   29  p   \n",
       "3         audi    a4    2.0  2008    4  manual(m6)   f   20   31  p   \n",
       "4         audi    a4    2.0  2008    4    auto(av)   f   21   30  p   \n",
       "5         audi    a4    2.8  1999    6    auto(l5)   f   16   26  p   \n",
       "\n",
       "  class_of_car  avg_mpg  \n",
       "1      compact     23.5  \n",
       "2      compact     25.0  \n",
       "3      compact     25.5  \n",
       "4      compact     25.5  \n",
       "5      compact     21.0  "
      ]
     },
     "execution_count": 174,
     "metadata": {},
     "output_type": "execute_result"
    }
   ],
   "source": [
    "#Prepare the data:\n",
    "\n",
    "#Step 1: Calculate the avg mpg\n",
    "mpg['avg_mpg'] = (mpg.cty + mpg.hwy) / 2\n",
    "mpg.head()\n",
    "\n",
    "#Note from demo: In the future, when dealing with rates(ratios) like mpg, I may want to use harmonic mean instead of arithmatic mean"
   ]
  },
  {
   "cell_type": "code",
   "execution_count": 175,
   "metadata": {},
   "outputs": [],
   "source": [
    "#Step 2: Classify vehicles by the years 2008 and 1999\n",
    "cars_from_99 = mpg[mpg.year == 1999]\n",
    "cars_from_08 = mpg[mpg.year == 2008] "
   ]
  },
  {
   "cell_type": "code",
   "execution_count": 176,
   "metadata": {},
   "outputs": [],
   "source": [
    "#Setup the test and set the confidence level\n",
    "null_hypothesis = \"There is no difference in fuel-efficiency in cars from 2008 vs 1999\"\n",
    "alt_hypothesis = \"There is a difference in fuel-efficiency in cars from 2008 vs 1999\"\n",
    "\n",
    "confidence_level = .95\n",
    "a = 1 - confidence_level"
   ]
  },
  {
   "cell_type": "code",
   "execution_count": 177,
   "metadata": {},
   "outputs": [
    {
     "data": {
      "text/plain": [
       "(0.21960177245940962, 0.8263744040323578)"
      ]
     },
     "execution_count": 177,
     "metadata": {},
     "output_type": "execute_result"
    }
   ],
   "source": [
    "#Use ttest_ind for a two sample t-test\n",
    "t, p = stats.ttest_ind(cars_from_99.avg_mpg,cars_from_08.avg_mpg)\n",
    "t, p"
   ]
  },
  {
   "cell_type": "code",
   "execution_count": 178,
   "metadata": {},
   "outputs": [
    {
     "name": "stdout",
     "output_type": "stream",
     "text": [
      "Fail to reject the null hypothesis.\n",
      "Not enough evidence to support a difference in fuel-efficiency.\n"
     ]
    }
   ],
   "source": [
    "#Use a two-tailed test\n",
    "if p < a: \n",
    "    print(\"Reject the null hypothesis that there is no difference in fuel-efficiency\")\n",
    "    print(\"Move forward with the understanding that there is a difference in efficiency between cars from 1999 and 2008\")\n",
    "else:\n",
    "    print(\"Fail to reject the null hypothesis.\")\n",
    "    print(\"Not enough evidence to support a difference in fuel-efficiency.\")"
   ]
  },
  {
   "cell_type": "markdown",
   "metadata": {},
   "source": [
    "- **Are compact cars more fuel-efficient than the average car?**"
   ]
  },
  {
   "cell_type": "code",
   "execution_count": 179,
   "metadata": {},
   "outputs": [],
   "source": [
    "#Rename the class column because class is a reserved word in python\n",
    "mpg = mpg.rename(columns={'class': 'class_of_car'})\n"
   ]
  },
  {
   "cell_type": "code",
   "execution_count": 183,
   "metadata": {},
   "outputs": [],
   "source": [
    "#Separate the compact car data sets to compare against the population\n",
    "compact_cars = mpg[mpg.class_of_car == \"compact\"]"
   ]
  },
  {
   "cell_type": "code",
   "execution_count": 184,
   "metadata": {},
   "outputs": [],
   "source": [
    "#Setup the test and set the confidence level\n",
    "null_hypothesis = \"There is no difference in fuel-efficiency for compact vs average cars\"\n",
    "alt_hypothesis = \"Compact cars are more efficient than the average car\"\n",
    "confidence_level = .95\n",
    "a = 1 - confidence_level"
   ]
  },
  {
   "cell_type": "code",
   "execution_count": 185,
   "metadata": {},
   "outputs": [
    {
     "data": {
      "text/plain": [
       "(7.896888573132535, 4.1985637943171336e-10)"
      ]
     },
     "execution_count": 185,
     "metadata": {},
     "output_type": "execute_result"
    }
   ],
   "source": [
    "#use ttest_ind for a one-sample t-test\n",
    "t, p = stats.ttest_1samp(compact_cars.avg_mpg, mpg.avg_mpg.mean())\n",
    "t,p"
   ]
  },
  {
   "cell_type": "code",
   "execution_count": 186,
   "metadata": {},
   "outputs": [
    {
     "name": "stdout",
     "output_type": "stream",
     "text": [
      "Reject the null hypothesis that states there is no difference in fuel-efficiency\n",
      "Move forward with the understanding that compact cars are more efficient than the average car.\n"
     ]
    }
   ],
   "source": [
    "#Set a one-tailed test \n",
    "if p/2 < a and t > 0:\n",
    "    print(\"Reject the null hypothesis that states there is no difference in fuel-efficiency\")\n",
    "    print(\"Move forward with the understanding that compact cars are more efficient than the average car.\")\n",
    "else:\n",
    "    print(f'Fail to reject the null hypothesis. There is not enough eveidence to support the claim: {alt_hypothesis}')"
   ]
  },
  {
   "cell_type": "markdown",
   "metadata": {},
   "source": [
    "- **Do manual cars get better gas mileage than automatic cars?**"
   ]
  },
  {
   "cell_type": "code",
   "execution_count": 193,
   "metadata": {},
   "outputs": [],
   "source": [
    "#Prepare the data by grouping manual and automatic cars\n",
    "def trans_type(x):\n",
    "    if \"auto\" in x:\n",
    "        return \"auto\"\n",
    "    else:\n",
    "        return \"manual\""
   ]
  },
  {
   "cell_type": "code",
   "execution_count": 194,
   "metadata": {},
   "outputs": [],
   "source": [
    "#Assign the cars one of two variables where auto == automatic transmission and manual == manual transmission\n",
    "mpg['trans_type'] = mpg.trans.apply(trans_type)"
   ]
  },
  {
   "cell_type": "code",
   "execution_count": 195,
   "metadata": {},
   "outputs": [],
   "source": [
    "#Separate the two data sets for comparison\n",
    "auto_cars = mpg[mpg.trans_type == 'auto']\n",
    "manual_cars = mpg[mpg.trans_type == 'manual']"
   ]
  },
  {
   "cell_type": "code",
   "execution_count": 196,
   "metadata": {},
   "outputs": [],
   "source": [
    "#Setup the test and select a confidence level \n",
    "null_hypothesis = \"There is no difference in gas mileage for automatic vs manual cars\"\n",
    "alt_hypothesis = \"Manual cars get better gas mileage than automatic cars\"\n",
    "confidence_level = .95\n",
    "a = 1 - confidence_level"
   ]
  },
  {
   "cell_type": "code",
   "execution_count": 197,
   "metadata": {},
   "outputs": [
    {
     "data": {
      "text/plain": [
       "(4.593437735750014, 7.154374401145683e-06)"
      ]
     },
     "execution_count": 197,
     "metadata": {},
     "output_type": "execute_result"
    }
   ],
   "source": [
    "#Use ttest_ind for the two sample t-test\n",
    "t, p = stats.ttest_ind(manual_cars.avg_mpg, auto_cars.avg_mpg)\n",
    "t, p"
   ]
  },
  {
   "cell_type": "code",
   "execution_count": 192,
   "metadata": {},
   "outputs": [
    {
     "name": "stdout",
     "output_type": "stream",
     "text": [
      "Reject the null hypothesis that states there is no difference in gas mileage for automatic vs. manual cars\n",
      "Move forward with the understanding that manual cars get better gas mileage than automatic cars.\n"
     ]
    }
   ],
   "source": [
    "#Since we are testing against whether or not manual cars get better gas mileage, I will use a one-tailed test:\n",
    "if p/2 < a and  t > 0:\n",
    "    print(\"Reject the null hypothesis that states there is no difference in gas mileage for automatic vs. manual cars\")\n",
    "    print(\"Move forward with the understanding that manual cars get better gas mileage than automatic cars.\")\n",
    "else:\n",
    "    print(\"Fail to reject the null hypothesis.\")\n",
    "    print(f\"There is not enough evidence to support the claim: {alt_hypothesis}\")"
   ]
  }
 ],
 "metadata": {
  "kernelspec": {
   "display_name": "Python 3",
   "language": "python",
   "name": "python3"
  },
  "language_info": {
   "codemirror_mode": {
    "name": "ipython",
    "version": 3
   },
   "file_extension": ".py",
   "mimetype": "text/x-python",
   "name": "python",
   "nbconvert_exporter": "python",
   "pygments_lexer": "ipython3",
   "version": "3.8.5"
  }
 },
 "nbformat": 4,
 "nbformat_minor": 4
}

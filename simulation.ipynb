{
 "cells": [
  {
   "cell_type": "markdown",
   "metadata": {},
   "source": [
    "# Statistics Exercises"
   ]
  },
  {
   "cell_type": "code",
   "execution_count": 98,
   "metadata": {},
   "outputs": [],
   "source": [
    "import numpy as np\n",
    "import pandas as pd"
   ]
  },
  {
   "cell_type": "markdown",
   "metadata": {},
   "source": [
    "### 1. How likely is it that you roll doubles when rolling two dice?"
   ]
  },
  {
   "cell_type": "code",
   "execution_count": 101,
   "metadata": {},
   "outputs": [
    {
     "data": {
      "text/plain": [
       "0.16576"
      ]
     },
     "execution_count": 101,
     "metadata": {},
     "output_type": "execute_result"
    }
   ],
   "source": [
    "#Represent the data\n",
    "outcomes = [1, 2, 3, 4, 5, 6]\n",
    "\n",
    "#create a matrix of random data\n",
    "number_of_simulations = 100_000\n",
    "n_trials = 2\n",
    "\n",
    "#apply an aggregate function row wise\n",
    "dice_one_roll = np.random.choice(outcomes, size=number_of_simulations)\n",
    "dice_two_roll = np.random.choice(outcomes, size=number_of_simulations)\n",
    "(dice_one_roll == dice_two_roll).mean()"
   ]
  },
  {
   "cell_type": "markdown",
   "metadata": {},
   "source": [
    "### 2. If you flip 8 coins, what is the probability of getting exactly 3 heads? What is the probability of getting more than 3 heads?"
   ]
  },
  {
   "cell_type": "code",
   "execution_count": 3,
   "metadata": {},
   "outputs": [],
   "source": [
    "outcomes = [1 , 0]\n",
    "number_of_simulations = 100_000\n",
    "n_trials = 8\n",
    "\n",
    "flips = np.random.choice(outcomes, size=(number_of_simulations, n_trials))\n",
    "flips\n",
    "sum_of_flips = flips.sum(axis=1)"
   ]
  },
  {
   "cell_type": "code",
   "execution_count": 108,
   "metadata": {},
   "outputs": [
    {
     "name": "stdout",
     "output_type": "stream",
     "text": [
      "The probability for getting exactly 3 heads when flipping 8 coins is: 0.21689\n"
     ]
    }
   ],
   "source": [
    "probability_for_3_heads = (sum_of_flips == 3).mean()\n",
    "print(f\"The probability for getting exactly 3 heads when flipping 8 coins is: {probability_for_3_heads}\")"
   ]
  },
  {
   "cell_type": "code",
   "execution_count": 110,
   "metadata": {},
   "outputs": [
    {
     "name": "stdout",
     "output_type": "stream",
     "text": [
      "The probability for getting more than 3 heads when flipping 8 coins is: 0.85519\n"
     ]
    }
   ],
   "source": [
    "probability_for_more_than_3_heads = (sum_of_flips >= 3).mean()\n",
    "\n",
    "print(f\"The probability for getting more than 3 heads when flipping 8 coins is: {probability_for_more_than_3_heads}\")"
   ]
  },
  {
   "cell_type": "markdown",
   "metadata": {},
   "source": [
    "### 3. There are approximitely 3 web development cohorts for every 1 data science cohort at Codeup. Assuming that Codeup randomly selects an alumni to put on a billboard, what are the odds that the two billboards I drive past both have data science students on them?"
   ]
  },
  {
   "cell_type": "code",
   "execution_count": 111,
   "metadata": {},
   "outputs": [
    {
     "data": {
      "text/plain": [
       "0.0631"
      ]
     },
     "execution_count": 111,
     "metadata": {},
     "output_type": "execute_result"
    }
   ],
   "source": [
    "outcomes = [0, 1]\n",
    "number_of_simulations = 10_000\n",
    "n_trials = 2\n",
    "\n",
    "billboard = np.random.choice(outcomes, size=(number_of_simulations,n_trials), p=[.75, .25])\n",
    "sum_of_billboard = billboard.sum(axis=1)\n",
    "(sum_of_billboard == 2).mean()"
   ]
  },
  {
   "cell_type": "markdown",
   "metadata": {},
   "source": [
    "### 4. Codeup students buy, on average, 3 poptart packages (+- 1.5) a day from the snack vending machine. If on monday the machine is restocked with 17 poptart packages, how likely is it that I will be able to buy some poptarts on Friday afternoon?"
   ]
  },
  {
   "cell_type": "code",
   "execution_count": 115,
   "metadata": {},
   "outputs": [
    {
     "data": {
      "text/plain": [
       "0.27405"
      ]
     },
     "execution_count": 115,
     "metadata": {},
     "output_type": "execute_result"
    }
   ],
   "source": [
    "pop_consumption = np.random.normal(3, 1.5, size=(100_000, 5))\n",
    "poptart_qty_on_fri =  (pop_consumption.sum(axis=1))\n",
    "(poptart_qty_on_fri >= 17).mean()\n"
   ]
  },
  {
   "cell_type": "markdown",
   "metadata": {},
   "source": [
    "### 5. Compare Heights\n",
    "\n",
    "- Men have an average height of 178 cm and standard deviation of 8cm.\n",
    "- Women have a mean of 170, sd = 6cm.\n",
    "- If a man and woman are chosen at random, P(woman taller than man)?"
   ]
  },
  {
   "cell_type": "code",
   "execution_count": 118,
   "metadata": {},
   "outputs": [
    {
     "data": {
      "text/plain": [
       "0.21234"
      ]
     },
     "execution_count": 118,
     "metadata": {},
     "output_type": "execute_result"
    }
   ],
   "source": [
    "male_height = np.random.normal(178, 8, 100_000)\n",
    "female_height = np.random.normal(170, 6, 100_000)\n",
    "probability_for_taller_female = (female_height > male_height).mean()\n",
    "probability_for_taller_female"
   ]
  },
  {
   "cell_type": "markdown",
   "metadata": {},
   "source": [
    "### 6. When installing anaconda on a student's computer, there's a 1 in 250 chance that the download is corrupted and the installation fails. What are the odds that after having 50 students download anaconda, no one has an installation issue? 100 students?\n",
    "\n"
   ]
  },
  {
   "cell_type": "code",
   "execution_count": 22,
   "metadata": {},
   "outputs": [
    {
     "data": {
      "text/plain": [
       "array([[0, 0, 0, ..., 0, 0, 0],\n",
       "       [0, 0, 0, ..., 0, 0, 0],\n",
       "       [0, 0, 0, ..., 1, 0, 0],\n",
       "       ...,\n",
       "       [0, 0, 0, ..., 0, 0, 0],\n",
       "       [0, 0, 0, ..., 0, 0, 0],\n",
       "       [0, 0, 0, ..., 0, 0, 0]])"
      ]
     },
     "execution_count": 22,
     "metadata": {},
     "output_type": "execute_result"
    }
   ],
   "source": [
    "#outcomes = [\"success\", \"fail\"]\n",
    "outcomes = [0, 1]\n",
    "\n",
    "#The probability of success is 1/250 or .996 which leaves the probability for failure as .004...I'll use these as bias for the outcomes\n",
    "anaconda_install_problems_50 = np.random.choice(outcomes, size=(100_000, 50), p=[.996, .004])\n",
    "anaconda_install_problems_50"
   ]
  },
  {
   "cell_type": "code",
   "execution_count": 36,
   "metadata": {},
   "outputs": [
    {
     "name": "stdout",
     "output_type": "stream",
     "text": [
      "The probability that none of the first 50 students exerpeince an install failure is: 0.81624\n"
     ]
    }
   ],
   "source": [
    "no_install_failures_50 = (anaconda_install_problems_50.sum(axis=1) == 0).mean()\n",
    "print(f\"The probability that none of the first 50 students exerpeince an install failure is: {no_install_failures_50}\")"
   ]
  },
  {
   "cell_type": "code",
   "execution_count": 25,
   "metadata": {},
   "outputs": [
    {
     "data": {
      "text/plain": [
       "array([[0, 0, 0, ..., 0, 0, 0],\n",
       "       [0, 0, 0, ..., 0, 0, 0],\n",
       "       [0, 0, 0, ..., 0, 0, 0],\n",
       "       ...,\n",
       "       [0, 0, 0, ..., 0, 0, 0],\n",
       "       [0, 0, 0, ..., 0, 0, 0],\n",
       "       [0, 0, 0, ..., 0, 0, 0]])"
      ]
     },
     "execution_count": 25,
     "metadata": {},
     "output_type": "execute_result"
    }
   ],
   "source": [
    "anaconda_install_problems_100 = np.random.choice(outcomes, size=(100_000, 100), p=[.996, .004])\n",
    "anaconda_install_problems_100"
   ]
  },
  {
   "cell_type": "code",
   "execution_count": 42,
   "metadata": {},
   "outputs": [
    {
     "name": "stdout",
     "output_type": "stream",
     "text": [
      "The probability that none of the first 100 students exerpeince an install failure is: 0.67006\n"
     ]
    }
   ],
   "source": [
    "no_install_failures_100 = (anaconda_install_problems_100.sum(axis=1) == 0).mean()\n",
    "print(f\"The probability that none of the first 100 students exerpeince an install failure is: {no_install_failures_100}\")"
   ]
  },
  {
   "cell_type": "markdown",
   "metadata": {},
   "source": [
    "- **What is the probability that we observe an installation issue within the first 150 students that download anaconda?**"
   ]
  },
  {
   "cell_type": "code",
   "execution_count": 43,
   "metadata": {},
   "outputs": [
    {
     "data": {
      "text/plain": [
       "0.45307"
      ]
     },
     "execution_count": 43,
     "metadata": {},
     "output_type": "execute_result"
    }
   ],
   "source": [
    "install_failure_150 = np.random.choice(outcomes, size=(100_000, 150), p=[.996, .004])\n",
    "(install_failure_150.sum(axis=1) > 0).mean()"
   ]
  },
  {
   "cell_type": "markdown",
   "metadata": {},
   "source": [
    "- **How likely is it that 450 students all download anaconda without an issue?**"
   ]
  },
  {
   "cell_type": "code",
   "execution_count": 45,
   "metadata": {},
   "outputs": [
    {
     "data": {
      "text/plain": [
       "0.16665"
      ]
     },
     "execution_count": 45,
     "metadata": {},
     "output_type": "execute_result"
    }
   ],
   "source": [
    "no_install_problems_450 = np.random.choice(outcomes, size=(100_000, 450), p=[.996, .004])\n",
    "(no_install_problems_450.sum(axis=1) == 0).mean()"
   ]
  },
  {
   "cell_type": "markdown",
   "metadata": {},
   "source": [
    "### 7. There's a 70% chance on any given day that there will be at least one food truck at Travis Park. However, you haven't seen a food truck there in 3 days. How unlikely is this?\n",
    "\n"
   ]
  },
  {
   "cell_type": "code",
   "execution_count": 133,
   "metadata": {},
   "outputs": [
    {
     "data": {
      "text/plain": [
       "0.02616"
      ]
     },
     "execution_count": 133,
     "metadata": {},
     "output_type": "execute_result"
    }
   ],
   "source": [
    "#outcomes = [\"food\", \"no_food\"]\n",
    "outcomes = [0, 1]\n",
    "no_foodtruck_probability = np.random.choice(outcomes, size=(100_000, 3), p=[.70,.30])\n",
    "(no_foodtruck_probability.sum(axis=1) == 3).mean()"
   ]
  },
  {
   "cell_type": "markdown",
   "metadata": {},
   "source": [
    "- **How likely is it that a food truck will show up sometime this week?**"
   ]
  },
  {
   "cell_type": "code",
   "execution_count": 134,
   "metadata": {},
   "outputs": [
    {
     "data": {
      "text/plain": [
       "0.75714"
      ]
     },
     "execution_count": 134,
     "metadata": {},
     "output_type": "execute_result"
    }
   ],
   "source": [
    "#I set the trials to 4 because out of a 7 day week where a food truck has not showed up for the first three days, leaves 4 days remaining\n",
    "foodtruck_this_week = np.random.choice(outcomes, size=(100_000, 4), p=[.70,.30])\n",
    "(foodtruck_this_week.sum(axis=1) > 0).mean()"
   ]
  },
  {
   "cell_type": "markdown",
   "metadata": {},
   "source": [
    "### 8. If 23 people are in the same room, what are the odds that two of them share a birthday? What if it's 20 people? 40?"
   ]
  },
  {
   "cell_type": "code",
   "execution_count": 139,
   "metadata": {},
   "outputs": [
    {
     "data": {
      "text/plain": [
       "array([[176,  92,  48, ..., 215, 126,  80],\n",
       "       [352, 160,  75, ..., 278, 203, 145],\n",
       "       [108, 147,  63, ..., 142, 261, 236],\n",
       "       ...,\n",
       "       [299, 304, 236, ..., 277, 300, 186],\n",
       "       [159, 269, 127, ..., 234, 236,   0],\n",
       "       [300,  20, 155, ...,   9,  26, 181]])"
      ]
     },
     "execution_count": 139,
     "metadata": {},
     "output_type": "execute_result"
    }
   ],
   "source": [
    "outcomes = range(0, 365)\n",
    "n_simulations = 100_000\n",
    "n_trials = 23\n",
    "\n",
    "room = np.random.choice(outcomes, size=(n_simulations, n_trials))\n",
    "room"
   ]
  },
  {
   "cell_type": "code",
   "execution_count": 166,
   "metadata": {},
   "outputs": [
    {
     "data": {
      "text/plain": [
       "[]"
      ]
     },
     "execution_count": 166,
     "metadata": {},
     "output_type": "execute_result"
    }
   ],
   "source": [
    "lst_doubles = [len(np.unique(room[n])) for n in range(0, n_simulations-1) if len(np.unique(room[n])) <= 1]\n",
    "lst_doubles"
   ]
  },
  {
   "cell_type": "code",
   "execution_count": 162,
   "metadata": {},
   "outputs": [
    {
     "data": {
      "text/plain": [
       "0.0"
      ]
     },
     "execution_count": 162,
     "metadata": {},
     "output_type": "execute_result"
    }
   ],
   "source": [
    "prop_doubles = len(lst_doubles) / n_simulations\n",
    "prop_doubles"
   ]
  },
  {
   "cell_type": "code",
   "execution_count": null,
   "metadata": {},
   "outputs": [],
   "source": []
  }
 ],
 "metadata": {
  "kernelspec": {
   "display_name": "Python 3",
   "language": "python",
   "name": "python3"
  },
  "language_info": {
   "codemirror_mode": {
    "name": "ipython",
    "version": 3
   },
   "file_extension": ".py",
   "mimetype": "text/x-python",
   "name": "python",
   "nbconvert_exporter": "python",
   "pygments_lexer": "ipython3",
   "version": "3.8.5"
  }
 },
 "nbformat": 4,
 "nbformat_minor": 4
}
